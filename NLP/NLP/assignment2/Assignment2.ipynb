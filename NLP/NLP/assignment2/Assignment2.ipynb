{
 "cells": [
  {
   "cell_type": "markdown",
   "metadata": {},
   "source": [
    "# [COM4513-6513] Assignment 2: Text Classification with a Feedforward Network\n",
    "\n",
    "\n",
    "### Instructor: Nikos Aletras\n",
    "\n",
    "\n",
    "The goal of this assignment is to develop a Feedforward network for text classification. \n",
    "\n",
    "\n",
    "\n",
    "For that purpose, you will implement:\n",
    "\n",
    "- Text processing methods for transforming raw text data into input vectors for your network  (**1 mark**)\n",
    "- A Feedforward network consisting of:\n",
    "    - **One-hot** input layer mapping words into an **Embedding weight matrix** (**1 mark**)\n",
    "    - **One hidden layer** computing the mean embedding vector of all words in input followed by a **ReLU activation function** (**1 mark**)\n",
    "    - **Output layer** with a **softmax** activation. (**1 mark**)\n",
    "- The Stochastic Gradient Descent (SGD) algorithm with **back-propagation** to learn the weights of your Neural network. Your algorithm should:\n",
    "    - Use (and minimise) the **Categorical Cross-entropy loss** function (**1 mark**)\n",
    "    - Perform a **Forward pass** to compute intermediate outputs (**4 marks**)\n",
    "    - Perform a **Backward pass** to compute gradients and update all sets of weights (**4 marks**)\n",
    "    - Implement and use **Dropout** after each hidden layer for regularisation (**2 marks**)\n",
    "- Discuss how did you choose hyperparameters? You can tune the learning rate (hint: choose small values), embedding size {e.g. 50, 300, 500}, the dropout rate {e.g. 0.2, 0.5} and the learning rate. Please use tables or graphs to show training and validation performance for each hyperparam combination  (**2 marks**). \n",
    "- After training the model, plot the learning process (i.e. training and validation loss in each epoch) using a line plot and report accuracy.\n",
    "- Re-train your network by using pre-trained embeddings ([GloVe](https://nlp.stanford.edu/projects/glove/)) trained on large corpora. Instead of randomly initialising the embedding weights matrix, you should initialise it with the pre-trained weights. During training, you should not update them (i.e. weight freezing) and backprop should stop before computing gradients for updating embedding weights. Report results by performing hyperparameter tuning and plotting the learning process. Do you get better performance? (**3 marks**).\n",
    "\n",
    "- **BONUS:** Extend you Feedforward network by adding more hidden layers (e.g. one more). How does it affect the performance? Note: You need to repeat hyperparameter tuning, but the number of combinations grows exponentially. Therefore, you need to choose a subset of all possible combinations (**+2 extra marks**)\n",
    "\n",
    "\n",
    "\n",
    "### Data \n",
    "\n",
    "The data you will use for Task 2 is a subset of the [AG News Corpus](http://groups.di.unipi.it/~gulli/AG_corpus_of_news_articles.html) and you can find it in the `./data_topic` folder in CSV format:\n",
    "\n",
    "- `data_topic/train.csv`: contains 2,400 news articles, 800 for each class to be used for training.\n",
    "- `data_topic/dev.csv`: contains 150 news articles, 50 for each class to be used for hyperparameter selection and monitoring the training process.\n",
    "- `data_topic/test.csv`: contains 900 news articles, 300 for each class to be used for testing.\n",
    "\n",
    "### Pre-trained Embeddings\n",
    "\n",
    "You can download pre-trained GloVe embeddings trained on Common Crawl (840B tokens, 2.2M vocab, cased, 300d vectors, 2.03 GB download) from [here](http://nlp.stanford.edu/data/glove.840B.300d.zip). No need to unzip, the file is large.\n",
    "\n",
    "### Save Memory\n",
    "\n",
    "To save RAM, when you finish each experiment you can delete the weights of your network using `del W` followed by Python's garbage collector `gc.collect()`\n",
    "\n",
    "\n",
    "\n",
    "\n",
    "### Submission Instructions\n",
    "\n",
    "You should submit a Jupyter Notebook file (assignment2.ipynb) and an exported PDF version (you can do it from Jupyter: `File->Download as->PDF via Latex`).\n",
    "\n",
    "You are advised to follow the code structure given in this notebook by completing all given funtions. You can also write any auxilliary/helper functions (and arguments for the functions) that you might need but note that you can provide a full solution without any such functions. Similarly, you can just use only the packages imported below but you are free to use any functionality from the [Python Standard Library](https://docs.python.org/2/library/index.html), NumPy, SciPy and Pandas. You are not allowed to use any third-party library such as Scikit-learn (apart from metric functions already provided), NLTK, Spacy, Keras etc.. You are allowed to re-use your code from Assignment 1.\n",
    "\n",
    "Please make sure to comment your code. You should also mention if you've used Windows to write and test your code. There is no single correct answer on what your accuracy should be, but correct implementations usually achieve F1 of ~75-80% and ~85% without and with using pre-trained embeddings respectively. \n",
    "\n",
    "This assignment will be marked out of 20. It is worth 20\\% of your final grade in the module. If you implement the bonus question you can get up to 2 extra points but your final grade will be capped at 20.\n",
    "\n",
    "The deadline for this assignment is **23:59 on Mon, 18 May 2020** and it needs to be submitted via Blackboard (MOLE). Standard departmental penalties for lateness will be applied. We use a range of strategies to detect [unfair means](https://www.sheffield.ac.uk/ssid/unfair-means/index), including Turnitin which helps detect plagiarism, so make sure you do not plagiarise.\n",
    "\n"
   ]
  },
  {
   "cell_type": "code",
   "execution_count": 423,
   "metadata": {
    "ExecuteTime": {
     "end_time": "2020-04-02T15:00:18.625532Z",
     "start_time": "2020-04-02T15:00:17.377733Z"
    }
   },
   "outputs": [],
   "source": [
    "import pandas as pd\n",
    "import numpy as np\n",
    "from collections import Counter\n",
    "import re\n",
    "import matplotlib.pyplot as plt\n",
    "from sklearn.metrics import accuracy_score, precision_score, recall_score, f1_score\n",
    "import random\n",
    "from time import localtime, strftime\n",
    "from scipy.stats import spearmanr,pearsonr\n",
    "import zipfile\n",
    "import gc\n",
    "\n",
    "# fixing random seed for reproducibility\n",
    "random.seed(123)\n",
    "np.random.seed(123)\n"
   ]
  },
  {
   "cell_type": "markdown",
   "metadata": {},
   "source": [
    "## Transform Raw texts into training and development data\n",
    "\n",
    "First, you need to load the training, development and test sets from their corresponding CSV files (tip: you can use Pandas dataframes)."
   ]
  },
  {
   "cell_type": "code",
   "execution_count": 424,
   "metadata": {
    "ExecuteTime": {
     "end_time": "2020-04-02T14:26:39.748484Z",
     "start_time": "2020-04-02T14:26:39.727404Z"
    }
   },
   "outputs": [],
   "source": [
    "data_dev = pd.read_csv('./data_topic/dev.csv', names = ['label','text'])\n",
    "data_test = pd.read_csv('./data_topic/test.csv', names = ['label','text'])\n",
    "data_train = pd.read_csv('./data_topic/train.csv', names = ['label','text'])"
   ]
  },
  {
   "cell_type": "code",
   "execution_count": 425,
   "metadata": {
    "ExecuteTime": {
     "end_time": "2020-04-02T14:26:39.753874Z",
     "start_time": "2020-04-02T14:26:39.749647Z"
    }
   },
   "outputs": [
    {
     "data": {
      "text/html": [
       "<div>\n",
       "<style scoped>\n",
       "    .dataframe tbody tr th:only-of-type {\n",
       "        vertical-align: middle;\n",
       "    }\n",
       "\n",
       "    .dataframe tbody tr th {\n",
       "        vertical-align: top;\n",
       "    }\n",
       "\n",
       "    .dataframe thead th {\n",
       "        text-align: right;\n",
       "    }\n",
       "</style>\n",
       "<table border=\"1\" class=\"dataframe\">\n",
       "  <thead>\n",
       "    <tr style=\"text-align: right;\">\n",
       "      <th></th>\n",
       "      <th>label</th>\n",
       "      <th>text</th>\n",
       "    </tr>\n",
       "  </thead>\n",
       "  <tbody>\n",
       "    <tr>\n",
       "      <td>0</td>\n",
       "      <td>1</td>\n",
       "      <td>BAGHDAD, Iraq - An Islamic militant group that...</td>\n",
       "    </tr>\n",
       "    <tr>\n",
       "      <td>1</td>\n",
       "      <td>1</td>\n",
       "      <td>Parts of Los Angeles international airport are...</td>\n",
       "    </tr>\n",
       "    <tr>\n",
       "      <td>2</td>\n",
       "      <td>1</td>\n",
       "      <td>AFP - Facing a issue that once tripped up his ...</td>\n",
       "    </tr>\n",
       "    <tr>\n",
       "      <td>3</td>\n",
       "      <td>1</td>\n",
       "      <td>The leader of militant Lebanese group Hezbolla...</td>\n",
       "    </tr>\n",
       "    <tr>\n",
       "      <td>4</td>\n",
       "      <td>1</td>\n",
       "      <td>JAKARTA : ASEAN finance ministers ended a meet...</td>\n",
       "    </tr>\n",
       "    <tr>\n",
       "      <td>...</td>\n",
       "      <td>...</td>\n",
       "      <td>...</td>\n",
       "    </tr>\n",
       "    <tr>\n",
       "      <td>145</td>\n",
       "      <td>3</td>\n",
       "      <td>At Charles Schwab, executives plan a return to...</td>\n",
       "    </tr>\n",
       "    <tr>\n",
       "      <td>146</td>\n",
       "      <td>3</td>\n",
       "      <td>WASHINGTON : The Federal Reserve #39;s policy ...</td>\n",
       "    </tr>\n",
       "    <tr>\n",
       "      <td>147</td>\n",
       "      <td>3</td>\n",
       "      <td>BOSTON (CBS.MW) -- A lot of people got excited...</td>\n",
       "    </tr>\n",
       "    <tr>\n",
       "      <td>148</td>\n",
       "      <td>3</td>\n",
       "      <td>Qwest Communications International, the US tel...</td>\n",
       "    </tr>\n",
       "    <tr>\n",
       "      <td>149</td>\n",
       "      <td>3</td>\n",
       "      <td>How companies and investors do if a crisis spa...</td>\n",
       "    </tr>\n",
       "  </tbody>\n",
       "</table>\n",
       "<p>150 rows × 2 columns</p>\n",
       "</div>"
      ],
      "text/plain": [
       "     label                                               text\n",
       "0        1  BAGHDAD, Iraq - An Islamic militant group that...\n",
       "1        1  Parts of Los Angeles international airport are...\n",
       "2        1  AFP - Facing a issue that once tripped up his ...\n",
       "3        1  The leader of militant Lebanese group Hezbolla...\n",
       "4        1  JAKARTA : ASEAN finance ministers ended a meet...\n",
       "..     ...                                                ...\n",
       "145      3  At Charles Schwab, executives plan a return to...\n",
       "146      3  WASHINGTON : The Federal Reserve #39;s policy ...\n",
       "147      3  BOSTON (CBS.MW) -- A lot of people got excited...\n",
       "148      3  Qwest Communications International, the US tel...\n",
       "149      3  How companies and investors do if a crisis spa...\n",
       "\n",
       "[150 rows x 2 columns]"
      ]
     },
     "execution_count": 425,
     "metadata": {},
     "output_type": "execute_result"
    }
   ],
   "source": [
    "data_dev"
   ]
  },
  {
   "cell_type": "code",
   "execution_count": 426,
   "metadata": {},
   "outputs": [],
   "source": [
    "data_dev_text = list(data_dev['text'])                  #text to store raw text in python lists   \n",
    "data_dev_text = [item.lower() for item in data_dev_text]\n",
    "data_dev_label = data_dev['label'].values               #label to store corresponding labels in numpy arrays\n",
    "\n",
    "data_test_text = list(data_test['text']) \n",
    "data_test_text = [item.lower() for item in data_test_text]\n",
    "data_test_label = data_test['label'].values \n",
    "\n",
    "data_train_text = list(data_train['text']) \n",
    "data_train_text = [item.lower() for item in data_train_text]\n",
    "data_train_label = data_train['label'].values "
   ]
  },
  {
   "cell_type": "markdown",
   "metadata": {},
   "source": [
    "# Create input representations\n",
    "\n",
    "\n",
    "To train your Feedforward network, you first need to obtain input representations given a vocabulary. One-hot encoding requires large memory capacity. Therefore, we will instead represent documents as lists of vocabulary indices (each word corresponds to a vocabulary index). \n",
    "\n",
    "\n",
    "## Text Pre-Processing Pipeline\n",
    "\n",
    "To obtain a vocabulary of words. You should: \n",
    "- tokenise all texts into a list of unigrams (tip: you can re-use the functions from Assignment 1) \n",
    "- remove stop words (using the one provided or one of your preference) \n",
    "- remove unigrams appearing in less than K documents\n",
    "- use the remaining to create a vocabulary of the top-N most frequent unigrams in the entire corpus.\n"
   ]
  },
  {
   "cell_type": "code",
   "execution_count": 427,
   "metadata": {
    "ExecuteTime": {
     "end_time": "2020-04-02T14:26:40.851926Z",
     "start_time": "2020-04-02T14:26:40.847500Z"
    }
   },
   "outputs": [],
   "source": [
    "stop_words = ['a','in','on','at','and','or', \n",
    "              'to', 'the', 'of', 'an', 'by', \n",
    "              'as', 'is', 'was', 'were', 'been', 'be', \n",
    "              'are','for', 'this', 'that', 'these', 'those', 'you', 'i', 'if',\n",
    "             'it', 'he', 'she', 'we', 'they', 'will', 'have', 'has',\n",
    "              'do', 'did', 'can', 'could', 'who', 'which', 'what',\n",
    "              'but', 'not', 'there', 'no', 'does', 'not', 'so', 've', 'their',\n",
    "             'his', 'her', 'they', 'them', 'from', 'with', 'its']\n"
   ]
  },
  {
   "cell_type": "markdown",
   "metadata": {},
   "source": [
    "### Unigram extraction from a document\n",
    "\n",
    "You first need to implement the `extract_ngrams` function. It takes as input:\n",
    "- `x_raw`: a string corresponding to the raw text of a document\n",
    "- `ngram_range`: a tuple of two integers denoting the type of ngrams you want to extract, e.g. (1,2) denotes extracting unigrams and bigrams.\n",
    "- `token_pattern`: a string to be used within a regular expression to extract all tokens. Note that data is already tokenised so you could opt for a simple white space tokenisation.\n",
    "- `stop_words`: a list of stop words\n",
    "- `vocab`: a given vocabulary. It should be used to extract specific features.\n",
    "\n",
    "and returns:\n",
    "\n",
    "- a list of all extracted features.\n"
   ]
  },
  {
   "cell_type": "code",
   "execution_count": 428,
   "metadata": {
    "ExecuteTime": {
     "end_time": "2020-04-02T14:26:41.505459Z",
     "start_time": "2020-04-02T14:26:41.498388Z"
    }
   },
   "outputs": [],
   "source": [
    "def extract_ngrams(x_raw, ngram_range=(1,3), token_pattern=r'\\b[A-Za-z][A-Za-z]+\\b', stop_words=[], vocab=set()):\n",
    "    \n",
    "    tokenRE = re.compile(token_pattern)\n",
    "    \n",
    "    # first extract all unigrams by tokenising\n",
    "    x_uni = [w for w in tokenRE.findall(str(x_raw).lower(),) if w not in stop_words]\n",
    "    \n",
    "    # this is to store the ngrams to be returned\n",
    "    x = []\n",
    "    \n",
    "    if ngram_range[0]==1:\n",
    "        x = x_uni\n",
    "    \n",
    "    # generate n-grams from the available unigrams x_uni\n",
    "    ngrams = []\n",
    "    for n in range(ngram_range[0], ngram_range[1]+1):\n",
    "        \n",
    "        # ignore unigrams\n",
    "        if n==1: continue\n",
    "        \n",
    "        # pass a list of lists as an argument for zip\n",
    "        arg_list = [x_uni]+[x_uni[i:] for i in range(1, n)]\n",
    "\n",
    "        # extract tuples of n-grams using zip\n",
    "        # for bigram this should look: list(zip(x_uni, x_uni[1:]))\n",
    "        # align each item x[i] in x_uni with the next one x[i+1]. \n",
    "        # Note that x_uni and x_uni[1:] have different lenghts\n",
    "        # but zip ignores redundant elements at the end of the second list\n",
    "        # Alternativel, this could be done with for loops\n",
    "        x_ngram = list(zip(*arg_list))\n",
    "        ngrams.append(x_ngram)\n",
    "    \n",
    "        \n",
    "    for n in ngrams:\n",
    "        for t in n:\n",
    "            x.append(t)\n",
    "        \n",
    "    if len(vocab)>0:\n",
    "        x = [w for w in x if w in vocab]\n",
    "        \n",
    "    return x"
   ]
  },
  {
   "cell_type": "markdown",
   "metadata": {},
   "source": [
    "### Create a vocabulary of n-grams\n",
    "\n",
    "Then the `get_vocab` function will be used to (1) create a vocabulary of ngrams; (2) count the document frequencies of ngrams; (3) their raw frequency. It takes as input:\n",
    "- `X_raw`: a list of strings each corresponding to the raw text of a document\n",
    "- `ngram_range`: a tuple of two integers denoting the type of ngrams you want to extract, e.g. (1,2) denotes extracting unigrams and bigrams.\n",
    "- `token_pattern`: a string to be used within a regular expression to extract all tokens. Note that data is already tokenised so you could opt for a simple white space tokenisation.\n",
    "- `stop_words`: a list of stop words\n",
    "- `min_df`: keep ngrams with a minimum document frequency.\n",
    "- `keep_topN`: keep top-N more frequent ngrams.\n",
    "\n",
    "and returns:\n",
    "\n",
    "- `vocab`: a set of the n-grams that will be used as features.\n",
    "- `df`: a Counter (or dict) that contains ngrams as keys and their corresponding document frequency as values.\n",
    "- `ngram_counts`: counts of each ngram in vocab\n"
   ]
  },
  {
   "cell_type": "code",
   "execution_count": 429,
   "metadata": {
    "ExecuteTime": {
     "end_time": "2020-04-02T14:26:42.563876Z",
     "start_time": "2020-04-02T14:26:42.557967Z"
    }
   },
   "outputs": [],
   "source": [
    "def get_vocab(X_raw, ngram_range=(1,3), token_pattern=r'\\b[A-Za-z][A-Za-z]+\\b', \n",
    "              min_df=0, keep_topN=0, stop_words=[]):\n",
    "    \n",
    "    \n",
    "    tokenRE = re.compile(token_pattern)\n",
    "    \n",
    "    df = Counter()\n",
    "    ngram_counts = Counter()\n",
    "    vocab = set()\n",
    "    \n",
    "    # interate through each raw text\n",
    "    for x in X_raw:\n",
    "        \n",
    "        x_ngram = extract_ngrams(x, ngram_range=ngram_range, token_pattern=token_pattern, stop_words=stop_words)\n",
    "        \n",
    "        #update doc and ngram frequencies \n",
    "        df.update(list(set(x_ngram)))\n",
    "        ngram_counts.update(x_ngram)\n",
    "\n",
    "    # obtain a vocabulary as a set. \n",
    "    # Keep elements with doc frequency > minimum doc freq (min_df)\n",
    "    # Note that df contains all te\n",
    "    vocab = set([w for w in df if df[w]>=min_df])\n",
    "    \n",
    "    # keep the top N most freqent \n",
    "    if keep_topN>0:\n",
    "        vocab = set([w[0] for w in ngram_counts.most_common(keep_topN) if w[0] in vocab])\n",
    "    \n",
    "    \n",
    "    return vocab, df, ngram_counts\n"
   ]
  },
  {
   "cell_type": "markdown",
   "metadata": {},
   "source": [
    "Now you should use `get_vocab` to create your vocabulary and get document and raw frequencies of unigrams:"
   ]
  },
  {
   "cell_type": "code",
   "execution_count": 430,
   "metadata": {
    "ExecuteTime": {
     "end_time": "2020-04-02T14:26:43.577997Z",
     "start_time": "2020-04-02T14:26:43.478950Z"
    }
   },
   "outputs": [
    {
     "name": "stdout",
     "output_type": "stream",
     "text": [
      "8931\n",
      "\n",
      "['militiamen', 'vibrant', 'telekom', 'increased', 'primary', 'inventory', 'dew', 'medley', 'xom', 'israel', 'piece', 'metron', 'insiders', 'andruw', 'dhabi', 'shrugged', 'wattage', 'swiped', 'digital', 'pipes', 'mall', 'traders', 'police', 'january', 'june', 'eventing', 'preventing', 'tightening', 'gladstone', 'organise', 'rowers', 'irish', 'judgment', 'ticker', 'st', 'wrapped', 'regalia', 'general', 'published', 'channels', 'vouliagmeni', 'transitional', 'hundreds', 'served', 'slept', 'ali', 'reveals', 'leontien', 'unprecedented', 'coxless', 'robertson', 'representatives', 'refused', 'terry', 'figuring', 'full', 'billions', 'headed', 'ban', 'grabbed', 'bangladesh', 'respect', 'mediation', 'slashed', 'rooms', 'flattening', 'residency', 'buck', 'annual', 'moore', 'destroying', 'mothers', 'refrain', 'age', 'discussing', 'landscape', 'tri', 'cure', 'marriage', 'pull', 'vento', 'utah', 'horrific', 'tortuous', 'cantwell', 'joint', 'talbots', 'inventories', 'nl', 'commerce', 'pies', 'dwindling', 'grid', 'verdana', 'lankford', 'cut', 'celebrity', 'system', 'nablus', 'sick']\n",
      "\n",
      "[('reuters', 631), ('said', 432), ('tuesday', 413), ('wednesday', 344), ('new', 325), ('after', 295), ('ap', 275), ('athens', 245), ('monday', 221), ('first', 210)]\n"
     ]
    }
   ],
   "source": [
    "vocab, df, ngram_counts = get_vocab(data_train_text, ngram_range=(1,1), stop_words=stop_words)\n",
    "print(len(vocab))\n",
    "print()\n",
    "print(list(vocab)[:100])\n",
    "print()\n",
    "print(df.most_common()[:10])"
   ]
  },
  {
   "cell_type": "markdown",
   "metadata": {},
   "source": [
    "Then, you need to create vocabulary id -> word and id -> word dictionaries for reference:"
   ]
  },
  {
   "cell_type": "code",
   "execution_count": 431,
   "metadata": {
    "ExecuteTime": {
     "end_time": "2020-04-02T14:26:44.069661Z",
     "start_time": "2020-04-02T14:26:44.065058Z"
    }
   },
   "outputs": [],
   "source": [
    "word_to_id = {}\n",
    "id_to_word = {}\n",
    "for i in range(len(list(vocab))):\n",
    "    word_to_id[list(vocab)[i]] = i    #word as key\n",
    "    id_to_word[i] = [list(vocab)[i]]  #id as key"
   ]
  },
  {
   "cell_type": "markdown",
   "metadata": {},
   "source": [
    "### Convert the list of unigrams  into a list of vocabulary indices"
   ]
  },
  {
   "cell_type": "markdown",
   "metadata": {},
   "source": [
    "Storing actual one-hot vectors into memory for all words in the entire data set is prohibitive. Instead, we will store word indices in the vocabulary and look-up the weight matrix. This is equivalent of doing a dot product between an one-hot vector and the weight matrix. \n",
    "\n",
    "First, represent documents in train, dev and test sets as lists of words in the vocabulary:"
   ]
  },
  {
   "cell_type": "code",
   "execution_count": 433,
   "metadata": {
    "ExecuteTime": {
     "end_time": "2020-04-02T14:26:45.047887Z",
     "start_time": "2020-04-02T14:26:44.920631Z"
    }
   },
   "outputs": [],
   "source": [
    "X_uni_train=[]\n",
    "X_uni_dev=[]\n",
    "X_uni_test=[]\n",
    "for i in range(len(data_train_text)):\n",
    "    X_uni_train.append(extract_ngrams(data_train_text[i], (1,1), r'\\b[A-Za-z][A-Za-z]+\\b', stop_words))\n",
    "for i in range(len(data_dev_text)):\n",
    "    X_uni_dev.append(extract_ngrams(data_dev_text[i], (1,1), r'\\b[A-Za-z][A-Za-z]+\\b', stop_words))\n",
    "for i in range(len(data_test_text)):\n",
    "    X_uni_test.append(extract_ngrams(data_test_text[i], (1,1), r'\\b[A-Za-z][A-Za-z]+\\b', stop_words))"
   ]
  },
  {
   "cell_type": "code",
   "execution_count": 434,
   "metadata": {
    "ExecuteTime": {
     "end_time": "2020-04-02T14:26:45.219580Z",
     "start_time": "2020-04-02T14:26:45.214630Z"
    }
   },
   "outputs": [
    {
     "data": {
      "text/plain": [
       "['reuters',\n",
       " 'venezuelans',\n",
       " 'turned',\n",
       " 'out',\n",
       " 'early',\n",
       " 'large',\n",
       " 'numbers',\n",
       " 'sunday',\n",
       " 'vote',\n",
       " 'historic',\n",
       " 'referendum',\n",
       " 'either',\n",
       " 'remove',\n",
       " 'left',\n",
       " 'wing',\n",
       " 'president',\n",
       " 'hugo',\n",
       " 'chavez',\n",
       " 'office',\n",
       " 'give',\n",
       " 'him',\n",
       " 'new',\n",
       " 'mandate',\n",
       " 'govern',\n",
       " 'next',\n",
       " 'two',\n",
       " 'years']"
      ]
     },
     "execution_count": 434,
     "metadata": {},
     "output_type": "execute_result"
    }
   ],
   "source": [
    "X_uni_train[0]"
   ]
  },
  {
   "cell_type": "markdown",
   "metadata": {},
   "source": [
    "Then convert them into lists of indices in the vocabulary:"
   ]
  },
  {
   "cell_type": "code",
   "execution_count": 435,
   "metadata": {
    "ExecuteTime": {
     "end_time": "2020-04-02T14:26:45.752658Z",
     "start_time": "2020-04-02T14:26:45.730409Z"
    }
   },
   "outputs": [],
   "source": [
    "X_train = []\n",
    "X_dev = []\n",
    "X_test = []\n",
    "for i in range(len(X_uni_train)):\n",
    "    currentDocument1 = []\n",
    "    for item in X_uni_train[i]:\n",
    "        currentDocument1.append(word_to_id[item])\n",
    "    X_train.append(currentDocument1)\n",
    "for i in range(len(X_uni_dev)):\n",
    "    currentDocument2 = []\n",
    "    for item in X_uni_dev[i]:\n",
    "        if item in vocab:\n",
    "            currentDocument2.append(word_to_id[item])\n",
    "    X_dev.append(currentDocument2)   \n",
    "for i in range(len(X_uni_test)):\n",
    "    currentDocument3 = []\n",
    "    for item in X_uni_test[i]:\n",
    "        if item in vocab:         #if in vocab\n",
    "            currentDocument3.append(word_to_id[item])\n",
    "    X_test.append(currentDocument3)"
   ]
  },
  {
   "cell_type": "code",
   "execution_count": 436,
   "metadata": {},
   "outputs": [
    {
     "data": {
      "text/plain": [
       "[8536,\n",
       " 2713,\n",
       " 4724,\n",
       " 1714,\n",
       " 1212,\n",
       " 8115,\n",
       " 3169,\n",
       " 5106,\n",
       " 6313,\n",
       " 1256,\n",
       " 4677,\n",
       " 3655,\n",
       " 3496,\n",
       " 7899,\n",
       " 4368,\n",
       " 2187,\n",
       " 7090,\n",
       " 1048,\n",
       " 8669,\n",
       " 3204,\n",
       " 4341,\n",
       " 1537,\n",
       " 4072,\n",
       " 8024,\n",
       " 6680,\n",
       " 8781,\n",
       " 3453]"
      ]
     },
     "execution_count": 436,
     "metadata": {},
     "output_type": "execute_result"
    }
   ],
   "source": [
    "X_train[0]"
   ]
  },
  {
   "cell_type": "markdown",
   "metadata": {},
   "source": [
    "Put the labels `Y` for train, dev and test sets into arrays: "
   ]
  },
  {
   "cell_type": "code",
   "execution_count": 437,
   "metadata": {
    "ExecuteTime": {
     "end_time": "2020-04-02T15:03:13.183996Z",
     "start_time": "2020-04-02T15:03:13.077575Z"
    }
   },
   "outputs": [
    {
     "data": {
      "text/plain": [
       "array([0, 0, 0, 0, 0, 0, 0, 0, 0, 0, 0, 0, 0, 0, 0, 0, 0, 0, 0, 0, 0, 0,\n",
       "       0, 0, 0, 0, 0, 0, 0, 0, 0, 0, 0, 0, 0, 0, 0, 0, 0, 0, 0, 0, 0, 0,\n",
       "       0, 0, 0, 0, 0, 0, 1, 1, 1, 1, 1, 1, 1, 1, 1, 1, 1, 1, 1, 1, 1, 1,\n",
       "       1, 1, 1, 1, 1, 1, 1, 1, 1, 1, 1, 1, 1, 1, 1, 1, 1, 1, 1, 1, 1, 1,\n",
       "       1, 1, 1, 1, 1, 1, 1, 1, 1, 1, 1, 1, 2, 2, 2, 2, 2, 2, 2, 2, 2, 2,\n",
       "       2, 2, 2, 2, 2, 2, 2, 2, 2, 2, 2, 2, 2, 2, 2, 2, 2, 2, 2, 2, 2, 2,\n",
       "       2, 2, 2, 2, 2, 2, 2, 2, 2, 2, 2, 2, 2, 2, 2, 2, 2, 2])"
      ]
     },
     "execution_count": 437,
     "metadata": {},
     "output_type": "execute_result"
    }
   ],
   "source": [
    "Y_dev = data_dev['label'].values -1   #Y range(1,3) but we need(0,2)\n",
    "Y_train = data_train['label'].values -1\n",
    "Y_test = data_test['label'].values -1\n",
    "\n",
    "Y_dev"
   ]
  },
  {
   "cell_type": "markdown",
   "metadata": {},
   "source": [
    "# Network Architecture\n",
    "\n",
    "Your network should pass each word index into its corresponding embedding by looking-up on the embedding matrix and then compute the first hidden layer $\\mathbf{h}_1$:\n",
    "\n",
    "$$\\mathbf{h}_1 = \\frac{1}{|x|}\\sum_i W^e_i, i \\in x$$\n",
    "\n",
    "where $|x|$ is the number of words in the document and $W^e$ is an embedding matrix $|V|\\times d$, $|V|$ is the size of the vocabulary and $d$ the embedding size.\n",
    "\n",
    "Then $\\mathbf{h}_1$ should be passed through a ReLU activation function:\n",
    "\n",
    "$$\\mathbf{a}_1 = relu(\\mathbf{h}_1)$$\n",
    "\n",
    "Finally the hidden layer is passed to the output layer:\n",
    "\n",
    "\n",
    "$$\\mathbf{y} = \\text{softmax}(\\mathbf{a}_1W^T) $$ \n",
    "where $W$ is a matrix $d \\times |{\\cal Y}|$, $|{\\cal Y}|$ is the number of classes.\n",
    "\n",
    "During training, $\\mathbf{a}_1$ should be multiplied with a dropout mask vector (elementwise) for regularisation before it is passed to the output layer.\n",
    "\n",
    "You can extend to a deeper architecture by passing a hidden layer to another one:\n",
    "\n",
    "$$\\mathbf{h_i} = \\mathbf{a}_{i-1}W_i^T $$\n",
    "\n",
    "$$\\mathbf{a_i} = relu(\\mathbf{h_i}) $$\n",
    "\n",
    "\n",
    "\n",
    "# Network Training\n",
    "\n",
    "First we need to define the parameters of our network by initiliasing the weight matrices. For that purpose, you should implement the `network_weights` function that takes as input:\n",
    "\n",
    "- `vocab_size`: the size of the vocabulary\n",
    "- `embedding_dim`: the size of the word embeddings\n",
    "- `hidden_dim`: a list of the sizes of any subsequent hidden layers (for the Bonus). Empty if there are no hidden layers between the average embedding and the output layer \n",
    "- `num_clusses`: the number of the classes for the output layer\n",
    "\n",
    "and returns:\n",
    "\n",
    "- `W`: a dictionary mapping from layer index (e.g. 0 for the embedding matrix) to the corresponding weight matrix initialised with small random numbers (hint: use numpy.random.uniform with from -0.1 to 0.1)\n",
    "\n",
    "See the examples below for expected outputs. Make sure that the dimensionality of each weight matrix is compatible with the previous and next weight matrix, otherwise you won't be able to perform forward and backward passes. Consider also using np.float32 precision to save memory."
   ]
  },
  {
   "cell_type": "code",
   "execution_count": 438,
   "metadata": {
    "ExecuteTime": {
     "end_time": "2020-04-02T15:09:10.086665Z",
     "start_time": "2020-04-02T15:09:10.083429Z"
    }
   },
   "outputs": [],
   "source": [
    "def network_weights(vocab_size=1000, embedding_dim=300, \n",
    "                    hidden_dim=[], num_classes=3, init_val = 0.5):\n",
    "    \n",
    "    W = []\n",
    "    #numpy.random.uniform with init_val\n",
    "    W.append(np.random.uniform(-init_val,init_val,size=[vocab_size,embedding_dim]).astype('float32'))\n",
    "    if (len(hidden_dim) == 0): # if no hidden layer\n",
    "        W.append(np.random.uniform(-init_val,init_val,size=[embedding_dim,num_classes]).astype('float32'))\n",
    "    if (len(hidden_dim) == 1): # if 1 hidden layer\n",
    "        W.append(np.random.uniform(-init_val,init_val,size=[embedding_dim,hidden_dim[0]]).astype('float32'))\n",
    "        W.append(np.random.uniform(-init_val,init_val,size=[hidden_dim[0],num_classes]).astype('float32'))\n",
    "    if (len(hidden_dim) > 1):  # if more than 1 hidden layer\n",
    "        W.append(np.random.uniform(-init_val,init_val,size=[embedding_dim,hidden_dim[0]]).astype('float32'))\n",
    "        for i in range(len(hidden_dim)-1):\n",
    "            W.append(np.random.uniform(-init_val,init_val,size=[hidden_dim[i],hidden_dim[i+1]]).astype('float32'))\n",
    "        W.append(np.random.uniform(-init_val,init_val,size=[hidden_dim[-1],num_classes]).astype('float32'))\n",
    "\n",
    "    return W\n",
    "    "
   ]
  },
  {
   "cell_type": "code",
   "execution_count": 439,
   "metadata": {
    "ExecuteTime": {
     "end_time": "2020-04-02T14:26:48.143236Z",
     "start_time": "2020-04-02T14:26:48.139381Z"
    }
   },
   "outputs": [
    {
     "name": "stdout",
     "output_type": "stream",
     "text": [
      "W_emb: (5, 10)\n",
      "W_out: (10, 2)\n"
     ]
    }
   ],
   "source": [
    "W = network_weights(vocab_size=5,embedding_dim=10,hidden_dim=[], num_classes=2)\n",
    "\n",
    "print('W_emb:', W[0].shape)\n",
    "print('W_out:', W[1].shape)"
   ]
  },
  {
   "cell_type": "code",
   "execution_count": 440,
   "metadata": {
    "ExecuteTime": {
     "end_time": "2020-04-02T14:26:48.636732Z",
     "start_time": "2020-04-02T14:26:48.634122Z"
    }
   },
   "outputs": [],
   "source": [
    "W = network_weights(vocab_size=3,embedding_dim=4,hidden_dim=[2], num_classes=2)"
   ]
  },
  {
   "cell_type": "code",
   "execution_count": 441,
   "metadata": {
    "ExecuteTime": {
     "end_time": "2020-04-02T14:26:49.086112Z",
     "start_time": "2020-04-02T14:26:49.082225Z"
    }
   },
   "outputs": [
    {
     "name": "stdout",
     "output_type": "stream",
     "text": [
      "W_emb: (3, 4)\n",
      "W_h1: (4, 2)\n",
      "W_out: (2, 2)\n"
     ]
    }
   ],
   "source": [
    "print('W_emb:', W[0].shape)\n",
    "print('W_h1:', W[1].shape)\n",
    "print('W_out:', W[2].shape)"
   ]
  },
  {
   "cell_type": "code",
   "execution_count": 442,
   "metadata": {
    "ExecuteTime": {
     "end_time": "2020-04-02T14:26:49.535954Z",
     "start_time": "2020-04-02T14:26:49.532018Z"
    }
   },
   "outputs": [
    {
     "data": {
      "text/plain": [
       "array([[-0.4042875 ,  0.38532683,  0.12724897,  0.22341636],\n",
       "       [-0.4838708 ,  0.09443188,  0.05678519, -0.34104034],\n",
       "       [-0.3469295 ,  0.19552954, -0.18123357,  0.19197029]],\n",
       "      dtype=float32)"
      ]
     },
     "execution_count": 442,
     "metadata": {},
     "output_type": "execute_result"
    }
   ],
   "source": [
    "W[0]"
   ]
  },
  {
   "cell_type": "markdown",
   "metadata": {
    "ExecuteTime": {
     "end_time": "2020-04-01T10:31:57.970152Z",
     "start_time": "2020-04-01T10:31:57.966123Z"
    }
   },
   "source": [
    "Then you need to develop a `softmax` function (same as in Assignment 1) to be used in the output layer. It takes as input:\n",
    "\n",
    "- `z`: array of real numbers \n",
    "\n",
    "and returns:\n",
    "\n",
    "- `sig`: the softmax of `z`"
   ]
  },
  {
   "cell_type": "code",
   "execution_count": 443,
   "metadata": {
    "ExecuteTime": {
     "end_time": "2020-04-02T14:26:50.504086Z",
     "start_time": "2020-04-02T14:26:50.500686Z"
    }
   },
   "outputs": [],
   "source": [
    "def softmax(z):\n",
    "    \n",
    "    sum = np.sum(np.exp(z),axis = -1)                #sum each row\n",
    "    sig = np.exp(z) / np.expand_dims(sum, -1)       #reshape(N,) to (N,1)  ,  N rows\n",
    "    \n",
    "    return sig"
   ]
  },
  {
   "cell_type": "markdown",
   "metadata": {},
   "source": [
    "Now you need to implement the categorical cross entropy loss by slightly modifying the function from Assignment 1 to depend only on the true label `y` and the class probabilities vector `y_preds`:"
   ]
  },
  {
   "cell_type": "code",
   "execution_count": 444,
   "metadata": {
    "ExecuteTime": {
     "end_time": "2020-04-02T14:26:51.360838Z",
     "start_time": "2020-04-02T14:26:51.356935Z"
    }
   },
   "outputs": [],
   "source": [
    "def categorical_loss(y, y_preds):\n",
    "\n",
    "    l = -np.log(y_preds[y])\n",
    "\n",
    "    return l"
   ]
  },
  {
   "cell_type": "code",
   "execution_count": 445,
   "metadata": {
    "ExecuteTime": {
     "end_time": "2020-04-02T14:26:51.762676Z",
     "start_time": "2020-04-02T14:26:51.758210Z"
    }
   },
   "outputs": [
    {
     "name": "stdout",
     "output_type": "stream",
     "text": [
      "y_preds:  [0.01217919 0.27035308 0.24462558 0.02710529 0.44573687]\n",
      "loss: 1.40802648485675\n"
     ]
    }
   ],
   "source": [
    "# example for 5 classes\n",
    "\n",
    "y = 2 #true label\n",
    "y_preds = softmax(np.array([[-2.1,1.,0.9,-1.3,1.5]]))[0]\n",
    "\n",
    "print('y_preds: ',y_preds)\n",
    "print('loss:', categorical_loss(y, y_preds))"
   ]
  },
  {
   "cell_type": "markdown",
   "metadata": {
    "ExecuteTime": {
     "end_time": "2020-03-31T15:02:56.149535Z",
     "start_time": "2020-03-31T15:02:56.145738Z"
    }
   },
   "source": [
    "Then, implement the `relu` function to introduce non-linearity after each hidden layer of your network (during the forward pass): \n",
    "\n",
    "$$relu(z_i)= max(z_i,0)$$\n",
    "\n",
    "and the `relu_derivative` function to compute its derivative (used in the backward pass):\n",
    "\n",
    "\\begin{equation}\n",
    "  \\text{relu_derivative}(z_i)=\\begin{cases}\n",
    "    0, & \\text{if $z_i<=0$}.\\\\\n",
    "    1, & \\text{otherwise}.\n",
    "  \\end{cases}\n",
    "\\end{equation}\n",
    "\n",
    "Note that both functions take as input a vector $z$ \n",
    "\n",
    "Hint use .copy() to avoid in place changes in array z"
   ]
  },
  {
   "cell_type": "code",
   "execution_count": 446,
   "metadata": {
    "ExecuteTime": {
     "end_time": "2020-04-02T14:26:52.665236Z",
     "start_time": "2020-04-02T14:26:52.661519Z"
    }
   },
   "outputs": [],
   "source": [
    "def relu(z):\n",
    "    a = np.maximum(z, 0)\n",
    "    return a\n",
    "    \n",
    "def relu_derivative(z):\n",
    "    dz = z.copy()\n",
    "    dz[dz<=0] = 0\n",
    "    dz[dz>0] = 1 \n",
    "    return dz"
   ]
  },
  {
   "cell_type": "markdown",
   "metadata": {},
   "source": [
    "During training you should also apply a dropout mask element-wise after the activation function (i.e. vector of ones with a random percentage set to zero). The `dropout_mask` function takes as input:\n",
    "\n",
    "- `size`: the size of the vector that we want to apply dropout\n",
    "- `dropout_rate`: the percentage of elements that will be randomly set to zeros\n",
    "\n",
    "and returns:\n",
    "\n",
    "- `dropout_vec`: a vector with binary values (0 or 1)"
   ]
  },
  {
   "cell_type": "code",
   "execution_count": 447,
   "metadata": {
    "ExecuteTime": {
     "end_time": "2020-04-02T14:26:53.429192Z",
     "start_time": "2020-04-02T14:26:53.425301Z"
    }
   },
   "outputs": [],
   "source": [
    "def dropout_mask(size, dropout_rate):\n",
    "    \n",
    "    dropout_vec = np.random.choice([0., 1.], size=size, p=[dropout_rate, 1-dropout_rate])\n",
    "    \n",
    "    return dropout_vec\n",
    "    \n",
    "    "
   ]
  },
  {
   "cell_type": "code",
   "execution_count": 448,
   "metadata": {
    "ExecuteTime": {
     "end_time": "2020-04-02T14:26:53.853632Z",
     "start_time": "2020-04-02T14:26:53.849944Z"
    }
   },
   "outputs": [
    {
     "name": "stdout",
     "output_type": "stream",
     "text": [
      "[1. 1. 0. 1. 1. 1. 1. 1. 0. 0.]\n",
      "[1. 1. 1. 1. 1. 1. 1. 1. 0. 1.]\n"
     ]
    }
   ],
   "source": [
    "print(dropout_mask(10, 0.2))\n",
    "print(dropout_mask(10, 0.2))"
   ]
  },
  {
   "cell_type": "markdown",
   "metadata": {},
   "source": [
    "Now you need to implement the `forward_pass` function that passes the input x through the network up to the output layer for computing the probability for each class using the weight matrices in `W`. The ReLU activation function should be applied on each hidden layer. \n",
    "\n",
    "- `x`: a list of vocabulary indices each corresponding to a word in the document (input)\n",
    "- `W`: a list of weight matrices connecting each part of the network, e.g. for a network with a hidden and an output layer: W[0] is the weight matrix that connects the input to the first hidden layer, W[1] is the weight matrix that connects the hidden layer to the output layer.\n",
    "- `dropout_rate`: the dropout rate that is used to generate a random dropout mask vector applied after each hidden layer for regularisation.\n",
    "\n",
    "and returns:\n",
    "\n",
    "- `out_vals`: a dictionary of output values from each layer: h (the vector before the activation function), a (the resulting vector after passing h from the activation function), its dropout mask vector; and the prediction vector (probability for each class) from the output layer."
   ]
  },
  {
   "cell_type": "code",
   "execution_count": 449,
   "metadata": {
    "ExecuteTime": {
     "end_time": "2020-04-02T14:26:54.761268Z",
     "start_time": "2020-04-02T14:26:54.753402Z"
    }
   },
   "outputs": [],
   "source": [
    "def forward_pass(x, W, dropout_rate=0.2):\n",
    "    out_vals = {}\n",
    "    h_vecs = []\n",
    "    a_vecs = []\n",
    "    dropout_vecs = []\n",
    "    #only for 1 hidden layer\n",
    "    # hidde, input to the first hidden layer\n",
    "    embedding = []\n",
    "    for index in x:\n",
    "        embedding.append(W[0][index])\n",
    "    h = np.mean(np.array(embedding), axis=0)\n",
    "    h_vecs.append(h)\n",
    "    out_vals[\"h\"] = np.array(h_vecs)\n",
    "    # ReLU\n",
    "    a = relu(h)\n",
    "    a_vecs.append(a)\n",
    "    out_vals[\"a\"] = np.array(a_vecs)\n",
    "    # Dropout regularisation\n",
    "    mask_vector = dropout_mask(a.shape[0], dropout_rate)\n",
    "    dropout_vecs.append(mask_vector)\n",
    "    out_vals[\"dropout\"] = np.array(dropout_vecs)\n",
    "    # Output Layer\n",
    "    prediction = softmax(np.dot(mask_vector * a,W[1]))\n",
    "    out_vals[\"prediction\"] = np.array(prediction)\n",
    "   \n",
    "    return out_vals"
   ]
  },
  {
   "cell_type": "code",
   "execution_count": 450,
   "metadata": {
    "ExecuteTime": {
     "end_time": "2020-04-02T14:26:55.162854Z",
     "start_time": "2020-04-02T14:26:55.156122Z"
    }
   },
   "outputs": [
    {
     "name": "stdout",
     "output_type": "stream",
     "text": [
      "Shape W0 (3, 4)\n",
      "Shape W1 (4, 2)\n",
      "\n",
      "{'h': array([[-0.35241127,  0.25417778,  0.40362647,  0.09563337]],\n",
      "      dtype=float32), 'a': array([[0.        , 0.25417778, 0.40362647, 0.09563337]], dtype=float32), 'dropout': array([[1., 0., 0., 0.]]), 'prediction': array([0.5, 0.5])}\n"
     ]
    }
   ],
   "source": [
    "W = network_weights(vocab_size=3,embedding_dim=4,hidden_dim=[], num_classes=2)\n",
    "\n",
    "for i in range(len(W)):\n",
    "    print('Shape W'+str(i), W[i].shape)\n",
    "\n",
    "print()\n",
    "print(forward_pass([2,1], W, dropout_rate=0.5))"
   ]
  },
  {
   "cell_type": "markdown",
   "metadata": {},
   "source": [
    "The `backward_pass` function computes the gradients and update the weights for each matrix in the network from the output to the input. It takes as input \n",
    "\n",
    "- `x`: a list of vocabulary indices each corresponding to a word in the document (input)\n",
    "- `y`: the true label\n",
    "- `W`: a list of weight matrices connecting each part of the network, e.g. for a network with a hidden and an output layer: W[0] is the weight matrix that connects the input to the first hidden layer, W[1] is the weight matrix that connects the hidden layer to the output layer.\n",
    "- `out_vals`: a dictionary of output values from a forward pass.\n",
    "- `learning_rate`: the learning rate for updating the weights.\n",
    "- `freeze_emb`: boolean value indicating whether the embedding weights will be updated.\n",
    "\n",
    "and returns:\n",
    "\n",
    "- `W`: the updated weights of the network.\n",
    "\n",
    "Hint: the gradients on the output layer are similar to the multiclass logistic regression."
   ]
  },
  {
   "cell_type": "code",
   "execution_count": 451,
   "metadata": {
    "ExecuteTime": {
     "end_time": "2020-04-02T14:26:56.225630Z",
     "start_time": "2020-04-02T14:26:56.216508Z"
    }
   },
   "outputs": [],
   "source": [
    "def backward_pass(x, y, W, out_vals, lr=0.001, freeze_emb=False):\n",
    "    \n",
    "    # Compute gradient on the output layer\n",
    "    # similar to the multiclass logistic regression, output_gradient =  out_vals[\"prediction\"] - one_hot_vector[y] \n",
    "    # gk\n",
    "    output_gradient = out_vals[\"prediction\"]\n",
    "    output_gradient[y] = output_gradient[y] - 1\n",
    "    #delta wk = hk-1 * gk  (embedding_dim,num_class)\n",
    "    weight_gradient = np.dot((out_vals['a']*out_vals['dropout']).T , output_gradient.reshape(1,output_gradient.shape[0]))\n",
    "    #update wk\n",
    "    W[1] = W[1] - lr * weight_gradient\n",
    "    \n",
    "    \n",
    "    # Compute gradient on the next hidden layer\n",
    "    #gk-1 = gk * wk\n",
    "    next_gradient = np.dot(output_gradient.reshape(1,output_gradient.shape[0]) , W[1].T)\n",
    "    #delta wk-1 = hk-2 * gk-1 (vocab_size,embedding_dim)\n",
    "    next_weight_gradient = np.dot(np.transpose([x],(1,0)),next_gradient *relu_derivative(out_vals['h'])* out_vals['dropout'])\n",
    "    # Update wk-1\n",
    "    if not freeze_emb:\n",
    "        for id,i in enumerate(x):\n",
    "            W[0][i] = W[0][i] - lr * next_weight_gradient[id]\n",
    "    \n",
    "    \n",
    "    return W"
   ]
  },
  {
   "cell_type": "markdown",
   "metadata": {
    "ExecuteTime": {
     "end_time": "2020-02-15T14:08:59.937442Z",
     "start_time": "2020-02-15T14:08:59.932221Z"
    }
   },
   "source": [
    "Finally you need to modify SGD to support back-propagation by using the `forward_pass` and `backward_pass` functions.\n",
    "\n",
    "The `SGD` function takes as input:\n",
    "\n",
    "- `X_tr`: array of training data (vectors)\n",
    "- `Y_tr`: labels of `X_tr`\n",
    "- `W`: the weights of the network (dictionary)\n",
    "- `X_dev`: array of development (i.e. validation) data (vectors)\n",
    "- `Y_dev`: labels of `X_dev`\n",
    "- `lr`: learning rate\n",
    "- `dropout`: regularisation strength\n",
    "- `epochs`: number of full passes over the training data\n",
    "- `tolerance`: stop training if the difference between the current and previous validation loss is smaller than a threshold\n",
    "- `freeze_emb`: boolean value indicating whether the embedding weights will be updated (to be used by the backward pass function).\n",
    "- `print_progress`: flag for printing the training progress (train/validation loss)\n",
    "\n",
    "\n",
    "and returns:\n",
    "\n",
    "- `weights`: the weights learned\n",
    "- `training_loss_history`: an array with the average losses of the whole training set after each epoch\n",
    "- `validation_loss_history`: an array with the average losses of the whole development set after each epoch"
   ]
  },
  {
   "cell_type": "code",
   "execution_count": 453,
   "metadata": {
    "ExecuteTime": {
     "end_time": "2020-04-02T15:09:19.021428Z",
     "start_time": "2020-04-02T15:09:19.017835Z"
    }
   },
   "outputs": [],
   "source": [
    "def SGD(X_tr, Y_tr, W, X_dev=[], Y_dev=[], lr=0.001, \n",
    "        dropout=0.2, epochs=5, tolerance=0.001, freeze_emb=False, print_progress=True):\n",
    "\n",
    "    training_loss_history = []\n",
    "    validation_loss_history = []\n",
    "    #epochs\n",
    "    for i in range(epochs):\n",
    "        #Randomise the data order after each epoch\n",
    "        idx = np.arange(len(X_tr))\n",
    "        np.random.shuffle(idx)     \n",
    "        train_loss = 0\n",
    "        validation_loss = 0\n",
    "        #iteration\n",
    "        for j in range(len(X_tr)):\n",
    "            temp_idx = idx[j]\n",
    "            temp_label = Y_tr[temp_idx]  \n",
    "            temp_data = X_tr[temp_idx]\n",
    "            output = forward_pass(temp_data, W, dropout)\n",
    "            W = backward_pass(temp_data, temp_label, W, output, lr=lr,freeze_emb=freeze_emb)\n",
    "        #get the w of this epoch then calculate loss\n",
    "        for k in range(len(X_tr)):\n",
    "            temp_idx = idx[k]\n",
    "            temp_label = Y_tr[temp_idx]\n",
    "            temp_data = X_tr[temp_idx]\n",
    "            output = forward_pass(temp_data, W, dropout)        \n",
    "            train_loss += categorical_loss(temp_label, output['prediction'])\n",
    "        training_loss_history.append(train_loss/len(X_tr))\n",
    "        for l in range(len(X_dev)):\n",
    "            temp_label = Y_dev[l]\n",
    "            temp_data = X_dev[l]\n",
    "            output = forward_pass(temp_data, W, dropout)        \n",
    "            validation_loss += categorical_loss(temp_label, output['prediction'])\n",
    "        validation_loss_history.append(validation_loss/len(X_dev))\n",
    "        \n",
    "        # After each epoch print loss\n",
    "        print(\"Epoch: \" + str(i) + \"| Training loss: \" + str(train_loss/len(X_tr)) + \"| Validation loss: \" + str(validation_loss/len(X_dev)))\n",
    "\n",
    "        #Stop training if the difference between the current and previous validation loss is smaller than the tolerance\n",
    "        if i>=1 and validation_loss_history[i-1]-validation_loss_history[i] < tolerance:\n",
    "            break\n",
    "    \n",
    "    \n",
    "    return W, training_loss_history, validation_loss_history"
   ]
  },
  {
   "cell_type": "markdown",
   "metadata": {
    "ExecuteTime": {
     "end_time": "2020-02-15T14:10:15.772383Z",
     "start_time": "2020-02-15T14:10:15.767855Z"
    }
   },
   "source": [
    "Now you are ready to train and evaluate you neural net. First, you need to define your network using the `network_weights` function followed by SGD with backprop:"
   ]
  },
  {
   "cell_type": "code",
   "execution_count": 456,
   "metadata": {
    "ExecuteTime": {
     "end_time": "2020-04-02T15:09:33.643515Z",
     "start_time": "2020-04-02T15:09:33.640943Z"
    }
   },
   "outputs": [
    {
     "name": "stdout",
     "output_type": "stream",
     "text": [
      "Shape W0 (8931, 300)\n",
      "Shape W1 (300, 3)\n",
      "Epoch: 0| Training loss: 0.7754343249562988| Validation loss: 0.8701873881639748\n",
      "Epoch: 1| Training loss: 0.6194852606150656| Validation loss: 0.7536006366029792\n",
      "Epoch: 2| Training loss: 0.5243469705926251| Validation loss: 0.6611782602274712\n",
      "Epoch: 3| Training loss: 0.4603014343626222| Validation loss: 0.5997905596741032\n",
      "Epoch: 4| Training loss: 0.4128007297453185| Validation loss: 0.5557894671192336\n",
      "Epoch: 5| Training loss: 0.3730461419770352| Validation loss: 0.5216443876725065\n",
      "Epoch: 6| Training loss: 0.3413430791636748| Validation loss: 0.5003464975887367\n",
      "Epoch: 7| Training loss: 0.3163693030802652| Validation loss: 0.480443263388577\n",
      "Epoch: 8| Training loss: 0.29534932580675044| Validation loss: 0.4649832501808688\n",
      "Epoch: 9| Training loss: 0.27717352017143343| Validation loss: 0.45415227346390746\n",
      "Epoch: 10| Training loss: 0.26119017696961855| Validation loss: 0.4560788209353169\n"
     ]
    }
   ],
   "source": [
    "W = network_weights(vocab_size=len(vocab),embedding_dim=300,hidden_dim=[], num_classes=3)\n",
    "\n",
    "for i in range(len(W)):\n",
    "    print('Shape W'+str(i), W[i].shape)\n",
    "\n",
    "W, loss_tr, dev_loss = SGD(X_train, Y_train,\n",
    "                            W,\n",
    "                            X_dev=X_dev, \n",
    "                            Y_dev=Y_dev,\n",
    "                            lr=0.000002, \n",
    "                            dropout=0.2,\n",
    "                            freeze_emb=False,\n",
    "                            tolerance=0.01,\n",
    "                            epochs=100)\n"
   ]
  },
  {
   "cell_type": "markdown",
   "metadata": {},
   "source": [
    "Plot the learning process:"
   ]
  },
  {
   "cell_type": "code",
   "execution_count": 457,
   "metadata": {
    "ExecuteTime": {
     "end_time": "2020-04-02T14:27:15.716497Z",
     "start_time": "2020-04-02T14:27:15.612736Z"
    }
   },
   "outputs": [
    {
     "data": {
      "image/png": "[encoded data removed]",
      "text/plain": [
       "<Figure size 432x288 with 1 Axes>"
      ]
     },
     "metadata": {
      "needs_background": "light"
     },
     "output_type": "display_data"
    }
   ],
   "source": [
    "plt.title('Training Progress')\n",
    "sub_axix = np.arange(len(dev_loss))\n",
    "plt.plot(sub_axix, dev_loss, color='blue', label='validation loss')\n",
    "plt.plot(sub_axix, loss_tr, color='red', label='training loss')\n",
    "plt.legend()\n",
    "plt.xlabel('epochs')\n",
    "plt.ylabel('loss')\n",
    "plt.show()"
   ]
  },
  {
   "cell_type": "markdown",
   "metadata": {},
   "source": [
    "Compute accuracy, precision, recall and F1-Score:"
   ]
  },
  {
   "cell_type": "code",
   "execution_count": 458,
   "metadata": {
    "ExecuteTime": {
     "end_time": "2020-04-02T15:10:11.037495Z",
     "start_time": "2020-04-02T15:10:11.034999Z"
    }
   },
   "outputs": [
    {
     "name": "stdout",
     "output_type": "stream",
     "text": [
      "Accuracy: 0.8288888888888889\n",
      "Precision: 0.8328503121114483\n",
      "Recall: 0.8288888888888888\n",
      "F1-Score: 0.8279770929043626\n"
     ]
    }
   ],
   "source": [
    "preds_te = [np.argmax(forward_pass(x, W, dropout_rate=0.0)[\"prediction\"]) for x,y in zip(X_test,Y_test)]\n",
    "print('Accuracy:', accuracy_score(Y_test,preds_te))\n",
    "print('Precision:', precision_score(Y_test,preds_te,average='macro'))\n",
    "print('Recall:', recall_score(Y_test,preds_te,average='macro'))\n",
    "print('F1-Score:', f1_score(Y_test,preds_te,average='macro'))"
   ]
  },
  {
   "cell_type": "markdown",
   "metadata": {},
   "source": [
    "### Discuss how did you choose model hyperparameters ? "
   ]
  },
  {
   "cell_type": "markdown",
   "metadata": {},
   "source": [
    "Try learning rate at 0.001 at first, then 0.0001 and 0.00001 etc. If 0.00001 is too large and 0.000001 too small, I'll try value from 0.000002 to 0.000009 one by one. Finally 0.000002 is appropriate for my model.\n",
    "If the learning rate is too low, the model is prone to overfitting and would takes more epochs to converge(low learning rate needs more epochs). If the learning rate is too large, the loss value is easily oscillating."
   ]
  },
  {
   "cell_type": "markdown",
   "metadata": {},
   "source": [
    "# Use Pre-trained Embeddings\n",
    "\n",
    "Now re-train the network using GloVe pre-trained embeddings. You need to modify the `backward_pass` function above to stop computing gradients and updating weights of the embedding matrix.\n",
    "\n",
    "Use the function below to obtain the embedding martix for your vocabulary."
   ]
  },
  {
   "cell_type": "code",
   "execution_count": 459,
   "metadata": {
    "ExecuteTime": {
     "end_time": "2020-04-02T14:27:32.020697Z",
     "start_time": "2020-04-02T14:27:32.015733Z"
    }
   },
   "outputs": [],
   "source": [
    "def get_glove_embeddings(f_zip, f_txt, word2id, emb_size=300):\n",
    "    \n",
    "    w_emb = np.zeros((len(word2id), emb_size))\n",
    "    \n",
    "    with zipfile.ZipFile(f_zip) as z:\n",
    "        with z.open(f_txt) as f:\n",
    "            for line in f:\n",
    "                line = line.decode('utf-8')\n",
    "                word = line.split()[0]\n",
    "                     \n",
    "                if word in vocab:\n",
    "                    emb = np.array(line.strip('\\n').split()[1:]).astype(np.float32)\n",
    "                    w_emb[word2id[word]] +=emb\n",
    "    return w_emb"
   ]
  },
  {
   "cell_type": "code",
   "execution_count": 460,
   "metadata": {
    "ExecuteTime": {
     "end_time": "2020-04-02T14:28:54.548613Z",
     "start_time": "2020-04-02T14:27:32.780248Z"
    }
   },
   "outputs": [],
   "source": [
    "w_glove = get_glove_embeddings(\"glove.840B.300d.zip\",\"glove.840B.300d.txt\",word_to_id)"
   ]
  },
  {
   "cell_type": "markdown",
   "metadata": {},
   "source": [
    "First, initialise the weights of your network using the `network_weights` function. Second, replace the weigths of the embedding matrix with `w_glove`. Finally, train the network by freezing the embedding weights: "
   ]
  },
  {
   "cell_type": "code",
   "execution_count": 528,
   "metadata": {
    "ExecuteTime": {
     "end_time": "2020-04-02T14:30:11.121198Z",
     "start_time": "2020-04-02T14:29:24.946124Z"
    }
   },
   "outputs": [
    {
     "name": "stdout",
     "output_type": "stream",
     "text": [
      "Shape W0 (8931, 300)\n",
      "Shape W1 (300, 3)\n",
      "Epoch: 0| Training loss: 0.9647728017040555| Validation loss: 1.1179650279646334\n",
      "Epoch: 1| Training loss: 0.7142270413572348| Validation loss: 0.8865777115070543\n",
      "Epoch: 2| Training loss: 0.5870036489692724| Validation loss: 0.7706786622841932\n",
      "Epoch: 3| Training loss: 0.5081444600465905| Validation loss: 0.6698648149093026\n",
      "Epoch: 4| Training loss: 0.44750898176706394| Validation loss: 0.621339678242145\n",
      "Epoch: 5| Training loss: 0.4121042890919926| Validation loss: 0.5930473139018743\n",
      "Epoch: 6| Training loss: 0.36843310535506096| Validation loss: 0.546890662051361\n",
      "Epoch: 7| Training loss: 0.34828726277030886| Validation loss: 0.5259808308495713\n",
      "Epoch: 8| Training loss: 0.3265925753257265| Validation loss: 0.4747646593807956\n",
      "Epoch: 9| Training loss: 0.3109060333265159| Validation loss: 0.4690501756653546\n",
      "Epoch: 10| Training loss: 0.29147388726905354| Validation loss: 0.4596863379544453\n",
      "Epoch: 11| Training loss: 0.27343871330793934| Validation loss: 0.43630627445074066\n",
      "Epoch: 12| Training loss: 0.2669540329980928| Validation loss: 0.4427810436258824\n"
     ]
    }
   ],
   "source": [
    "W = network_weights(vocab_size=len(vocab),embedding_dim=300,hidden_dim=[], num_classes=3)\n",
    "\n",
    "#replace W[0] with w_glove\n",
    "W[0] = w_glove \n",
    "for i in range(len(W)):\n",
    "    print('Shape W'+str(i), W[i].shape)\n",
    "    \n",
    "W, loss_tr, dev_loss = SGD(X_train, Y_train,\n",
    "                            W,\n",
    "                            X_dev=X_dev, \n",
    "                            Y_dev=Y_dev,\n",
    "                            lr=0.000002, \n",
    "                            dropout=0.2,\n",
    "                            freeze_emb=False,\n",
    "                            tolerance=0.001,\n",
    "                            epochs=100)"
   ]
  },
  {
   "cell_type": "code",
   "execution_count": 529,
   "metadata": {
    "ExecuteTime": {
     "end_time": "2020-04-02T15:12:00.815184Z",
     "start_time": "2020-04-02T15:12:00.812563Z"
    }
   },
   "outputs": [
    {
     "name": "stdout",
     "output_type": "stream",
     "text": [
      "Accuracy: 0.8344444444444444\n",
      "Precision: 0.8378544596032637\n",
      "Recall: 0.8344444444444444\n",
      "F1-Score: 0.8346152833715023\n"
     ]
    }
   ],
   "source": [
    "preds_te = [np.argmax(forward_pass(x, W, dropout_rate=0.0)[\"prediction\"]) for x,y in zip(X_test,Y_test)]\n",
    "print('Accuracy:', accuracy_score(Y_test,preds_te))\n",
    "print('Precision:', precision_score(Y_test,preds_te,average='macro'))\n",
    "print('Recall:', recall_score(Y_test,preds_te,average='macro'))\n",
    "print('F1-Score:', f1_score(Y_test,preds_te,average='macro'))"
   ]
  },
  {
   "cell_type": "markdown",
   "metadata": {},
   "source": [
    "### Discuss how did you choose model hyperparameters ? "
   ]
  },
  {
   "cell_type": "markdown",
   "metadata": {},
   "source": [
    "Try learning rate at 0.001 at first, then 0.0001 and 0.00001 etc. If 0.00001 is too large and 0.000001 too small, I'll try value from 0.000002 to 0.000009 one by one. Finally 0.000002 is appropriate for my model.\n",
    "If the learning rate is too low, the model is prone to overfitting and would takes more epochs to converge(low learning rate needs more epochs). If the learning rate is too large, the loss value is easily oscillating."
   ]
  },
  {
   "cell_type": "markdown",
   "metadata": {},
   "source": [
    "# Extend to support deeper architectures (Bonus)\n",
    "\n",
    "Extend the network to support back-propagation for more hidden layers. You need to modify the `backward_pass` function above to compute gradients and update the weights between intermediate hidden layers. Finally, train and evaluate a network with a deeper architecture. "
   ]
  },
  {
   "cell_type": "code",
   "execution_count": null,
   "metadata": {
    "ExecuteTime": {
     "end_time": "2020-04-02T14:58:51.764619Z",
     "start_time": "2020-04-02T14:58:47.483690Z"
    }
   },
   "outputs": [],
   "source": []
  },
  {
   "cell_type": "code",
   "execution_count": 530,
   "metadata": {
    "ExecuteTime": {
     "end_time": "2020-04-02T15:11:51.994986Z",
     "start_time": "2020-04-02T15:11:51.992563Z"
    }
   },
   "outputs": [
    {
     "name": "stdout",
     "output_type": "stream",
     "text": [
      "Accuracy: 0.8344444444444444\n",
      "Precision: 0.8378544596032637\n",
      "Recall: 0.8344444444444444\n",
      "F1-Score: 0.8346152833715023\n"
     ]
    }
   ],
   "source": [
    "preds_te = [np.argmax(forward_pass(x, W, dropout_rate=0.0)[\"prediction\"]) for x,y in zip(X_test,Y_test)]\n",
    "print('Accuracy:', accuracy_score(Y_test,preds_te))\n",
    "print('Precision:', precision_score(Y_test,preds_te,average='macro'))\n",
    "print('Recall:', recall_score(Y_test,preds_te,average='macro'))\n",
    "print('F1-Score:', f1_score(Y_test,preds_te,average='macro'))"
   ]
  },
  {
   "cell_type": "markdown",
   "metadata": {},
   "source": [
    "## Full Results\n",
    "\n",
    "Add your final results here:\n",
    "\n",
    "| Model | Precision  | Recall  | F1-Score  | Accuracy\n",
    "|:-:|:-:|:-:|:-:|:-:|\n",
    "| Average Embedding  | 0.833  | 0.829  | 0.828  | 0.829  |\n",
    "| Average Embedding (Pre-trained)  | 0.838  | 0.834  | 0.835  | 0.834  |\n",
    "| Average Embedding (Pre-trained) + X hidden layers (BONUS)   |   |   |   |   |\n"
   ]
  },
  {
   "cell_type": "code",
   "execution_count": null,
   "metadata": {},
   "outputs": [],
   "source": []
  }
 ],
 "metadata": {
  "kernelspec": {
   "display_name": "Python 3",
   "language": "python",
   "name": "python3"
  },
  "language_info": {
   "codemirror_mode": {
    "name": "ipython",
    "version": 3
   },
   "file_extension": ".py",
   "mimetype": "text/x-python",
   "name": "python",
   "nbconvert_exporter": "python",
   "pygments_lexer": "ipython3",
   "version": "3.7.4"
  }
 },
 "nbformat": 4,
 "nbformat_minor": 2
}
