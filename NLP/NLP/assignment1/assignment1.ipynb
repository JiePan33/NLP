{
 "cells": [
  {
   "cell_type": "markdown",
   "metadata": {},
   "source": [
    "# [COM4513-6513] Assignment 1: Text Classification with Logistic Regression\n",
    "\n",
    "### Instructor: Nikos Aletras\n",
    "\n",
    "\n",
    "The goal of this assignment is to develop and test two text classification systems: \n",
    "\n",
    "- **Task 1:** sentiment analysis, in particular to predict the sentiment of movie review, i.e. positive or negative (binary classification).\n",
    "- **Task 2:** topic classification, to predict whether a news article is about International issues, Sports or Business (multiclass classification).\n",
    "\n",
    "\n",
    "For that purpose, you will implement:\n",
    "\n",
    "- Text processing methods for extracting Bag-Of-Word features, using (1) unigrams, bigrams and trigrams to obtain vector representations of documents. Two vector weighting schemes should be tested: (1) raw frequencies (**3 marks; 1 for each ngram type**); (2) tf.idf (**1 marks**). \n",
    "- Binary Logistic Regression classifiers that will be able to accurately classify movie reviews trained with (1) BOW-count (raw frequencies); and (2) BOW-tfidf (tf.idf weighted) for Task 1. \n",
    "- Multiclass Logistic Regression classifiers that will be able to accurately classify news articles trained with (1) BOW-count (raw frequencies); and (2) BOW-tfidf (tf.idf weighted) for Task 2. \n",
    "- The Stochastic Gradient Descent (SGD) algorithm to estimate the parameters of your Logistic Regression models. Your SGD algorithm should:\n",
    "    - Minimise the Binary Cross-entropy loss function for Task 1 (**3 marks**)\n",
    "    - Minimise the Categorical Cross-entropy loss function for Task 2 (**3 marks**)\n",
    "    - Use L2 regularisation (both tasks) (**1 mark**)\n",
    "    - Perform multiple passes (epochs) over the training data (**1 mark**)\n",
    "    - Randomise the order of training data after each pass (**1 mark**)\n",
    "    - Stop training if the difference between the current and previous validation loss is smaller than a threshold (**1 mark**)\n",
    "    - After each epoch print the training and development loss (**1 mark**)\n",
    "- Discuss how did you choose hyperparameters (e.g. learning rate and regularisation strength)?  (**2 marks; 0.5 for each model in each task**).\n",
    "- After training the LR models, plot the learning process (i.e. training and validation loss in each epoch) using a line plot (**1 mark; 0.5 for both BOW-count and BOW-tfidf LR models in each task**) and discuss if your model overfits/underfits/is about right.\n",
    "- Model interpretability by showing the most important features for each class (i.e. most positive/negative weights). Give the top 10 for each class and comment on whether they make sense (if they don't you might have a bug!).  If we were to apply the classifier we've learned into a different domain such laptop reviews or restaurant reviews, do you think these features would generalise well? Can you propose what features the classifier could pick up as important in the new domain? (**2 marks; 0.5 for BOW-count and BOW-tfidf LR models respectively in each task**)\n",
    "\n",
    "\n",
    "### Data - Task 1 \n",
    "\n",
    "The data you will use for Task 1 are taken from here: [http://www.cs.cornell.edu/people/pabo/movie-review-data/](http://www.cs.cornell.edu/people/pabo/movie-review-data/) and you can find it in the `./data_sentiment` folder in CSV format:\n",
    "\n",
    "- `data_sentiment/train.csv`: contains 1,400 reviews, 700 positive (label: 1) and 700 negative (label: 0) to be used for training.\n",
    "- `data_sentiment/dev.csv`: contains 200 reviews, 100 positive and 100 negative to be used for hyperparameter selection and monitoring the training process.\n",
    "- `data_sentiment/test.csv`: contains 400 reviews, 200 positive and 200 negative to be used for testing.\n",
    "\n",
    "### Data - Task 2\n",
    "\n",
    "The data you will use for Task 2 is a subset of the [AG News Corpus](http://groups.di.unipi.it/~gulli/AG_corpus_of_news_articles.html) and you can find it in the `./data_topic` folder in CSV format:\n",
    "\n",
    "- `data_topic/train.csv`: contains 2,400 news articles, 800 for each class to be used for training.\n",
    "- `data_topic/dev.csv`: contains 150 news articles, 50 for each class to be used for hyperparameter selection and monitoring the training process.\n",
    "- `data_topic/test.csv`: contains 900 news articles, 300 for each class to be used for testing.\n",
    "\n",
    "\n",
    "### Submission Instructions\n",
    "\n",
    "You should submit a Jupyter Notebook file (assignment1.ipynb) and an exported PDF version (you can do it from Jupyter: `File->Download as->PDF via Latex`).\n",
    "\n",
    "You are advised to follow the code structure given in this notebook by completing all given funtions. You can also write any auxilliary/helper functions (and arguments for the functions) that you might need but note that you can provide a full solution without any such functions. Similarly, you can just use only the packages imported below but you are free to use any functionality from the [Python Standard Library](https://docs.python.org/2/library/index.html), NumPy, SciPy and Pandas. You are not allowed to use any third-party library such as Scikit-learn (apart from metric functions already provided), NLTK, Spacy, Keras etc..\n",
    "\n",
    "Please make sure to comment your code. You should also mention if you've used Windows (not recommended) to write and test your code. There is no single correct answer on what your accuracy should be, but correct implementations usually achieve F1-scores around 80\\% or higher. The quality of the analysis of the results is as important as the accuracy itself. \n",
    "\n",
    "This assignment will be marked out of 20. It is worth 20\\% of your final grade in the module.\n",
    "\n",
    "The deadline for this assignment is **23:59 on Fri, 20 Mar 2020** and it needs to be submitted via MOLE. Standard departmental penalties for lateness will be applied. We use a range of strategies to detect [unfair means](https://www.sheffield.ac.uk/ssid/unfair-means/index), including Turnitin which helps detect plagiarism, so make sure you do not plagiarise.\n",
    "\n"
   ]
  },
  {
   "cell_type": "code",
   "execution_count": 1,
   "metadata": {
    "ExecuteTime": {
     "end_time": "2020-02-15T14:31:36.292691Z",
     "start_time": "2020-02-15T14:31:35.549108Z"
    }
   },
   "outputs": [],
   "source": [
    "import pandas as pd\n",
    "import numpy as np\n",
    "from collections import Counter\n",
    "import re\n",
    "import matplotlib.pyplot as plt\n",
    "from sklearn.metrics import accuracy_score, precision_score, recall_score, f1_score\n",
    "import random\n",
    "\n",
    "# fixing random seed for reproducibility\n",
    "random.seed(123)\n",
    "np.random.seed(123)\n"
   ]
  },
  {
   "cell_type": "markdown",
   "metadata": {},
   "source": [
    "## Load Raw texts and labels into arrays\n",
    "\n",
    "First, you need to load the training, development and test sets from their corresponding CSV files (tip: you can use Pandas dataframes)."
   ]
  },
  {
   "cell_type": "code",
   "execution_count": 2,
   "metadata": {
    "ExecuteTime": {
     "end_time": "2020-02-15T14:17:28.145788Z",
     "start_time": "2020-02-15T14:17:28.066100Z"
    }
   },
   "outputs": [],
   "source": [
    "# fill in your code...\n",
    "data_dev = pd.read_csv('./data_sentiment/dev.csv', names = ['text','label'])\n",
    "data_test = pd.read_csv('./data_sentiment/test.csv', names = ['text','label'])\n",
    "data_train = pd.read_csv('./data_sentiment/train.csv', names = ['text','label'])"
   ]
  },
  {
   "cell_type": "markdown",
   "metadata": {},
   "source": [
    "If you use Pandas you can see a sample of the data."
   ]
  },
  {
   "cell_type": "code",
   "execution_count": 3,
   "metadata": {
    "ExecuteTime": {
     "end_time": "2020-02-15T14:17:28.900892Z",
     "start_time": "2020-02-15T14:17:28.891221Z"
    }
   },
   "outputs": [
    {
     "data": {
      "text/html": [
       "<div>\n",
       "<style scoped>\n",
       "    .dataframe tbody tr th:only-of-type {\n",
       "        vertical-align: middle;\n",
       "    }\n",
       "\n",
       "    .dataframe tbody tr th {\n",
       "        vertical-align: top;\n",
       "    }\n",
       "\n",
       "    .dataframe thead th {\n",
       "        text-align: right;\n",
       "    }\n",
       "</style>\n",
       "<table border=\"1\" class=\"dataframe\">\n",
       "  <thead>\n",
       "    <tr style=\"text-align: right;\">\n",
       "      <th></th>\n",
       "      <th>text</th>\n",
       "      <th>label</th>\n",
       "    </tr>\n",
       "  </thead>\n",
       "  <tbody>\n",
       "    <tr>\n",
       "      <td>0</td>\n",
       "      <td>if he doesn=92t watch out , mel gibson is in d...</td>\n",
       "      <td>1</td>\n",
       "    </tr>\n",
       "    <tr>\n",
       "      <td>1</td>\n",
       "      <td>wong kar-wei's \" fallen angels \" is , on a pur...</td>\n",
       "      <td>1</td>\n",
       "    </tr>\n",
       "    <tr>\n",
       "      <td>2</td>\n",
       "      <td>there is nothing like american history x in th...</td>\n",
       "      <td>1</td>\n",
       "    </tr>\n",
       "    <tr>\n",
       "      <td>3</td>\n",
       "      <td>an unhappy italian housewife , a lonely waiter...</td>\n",
       "      <td>1</td>\n",
       "    </tr>\n",
       "    <tr>\n",
       "      <td>4</td>\n",
       "      <td>when people are talking about good old times ,...</td>\n",
       "      <td>1</td>\n",
       "    </tr>\n",
       "    <tr>\n",
       "      <td>...</td>\n",
       "      <td>...</td>\n",
       "      <td>...</td>\n",
       "    </tr>\n",
       "    <tr>\n",
       "      <td>195</td>\n",
       "      <td>tri-star ; rated r ( language , sexual situati...</td>\n",
       "      <td>0</td>\n",
       "    </tr>\n",
       "    <tr>\n",
       "      <td>196</td>\n",
       "      <td>fact that charles bronson represents one of th...</td>\n",
       "      <td>0</td>\n",
       "    </tr>\n",
       "    <tr>\n",
       "      <td>197</td>\n",
       "      <td>the above is dialogue from this film , taken a...</td>\n",
       "      <td>0</td>\n",
       "    </tr>\n",
       "    <tr>\n",
       "      <td>198</td>\n",
       "      <td>in the interest of being generous , i want to ...</td>\n",
       "      <td>0</td>\n",
       "    </tr>\n",
       "    <tr>\n",
       "      <td>199</td>\n",
       "      <td>the film may be called mercury rising , but th...</td>\n",
       "      <td>0</td>\n",
       "    </tr>\n",
       "  </tbody>\n",
       "</table>\n",
       "<p>200 rows × 2 columns</p>\n",
       "</div>"
      ],
      "text/plain": [
       "                                                  text  label\n",
       "0    if he doesn=92t watch out , mel gibson is in d...      1\n",
       "1    wong kar-wei's \" fallen angels \" is , on a pur...      1\n",
       "2    there is nothing like american history x in th...      1\n",
       "3    an unhappy italian housewife , a lonely waiter...      1\n",
       "4    when people are talking about good old times ,...      1\n",
       "..                                                 ...    ...\n",
       "195  tri-star ; rated r ( language , sexual situati...      0\n",
       "196  fact that charles bronson represents one of th...      0\n",
       "197  the above is dialogue from this film , taken a...      0\n",
       "198  in the interest of being generous , i want to ...      0\n",
       "199  the film may be called mercury rising , but th...      0\n",
       "\n",
       "[200 rows x 2 columns]"
      ]
     },
     "execution_count": 3,
     "metadata": {},
     "output_type": "execute_result"
    }
   ],
   "source": [
    "data_dev"
   ]
  },
  {
   "cell_type": "markdown",
   "metadata": {},
   "source": [
    "The next step is to put the raw texts into Python lists and their corresponding labels into NumPy arrays:\n"
   ]
  },
  {
   "cell_type": "code",
   "execution_count": 4,
   "metadata": {
    "ExecuteTime": {
     "end_time": "2020-02-15T14:17:31.115577Z",
     "start_time": "2020-02-15T14:17:31.108038Z"
    }
   },
   "outputs": [],
   "source": [
    "# fill in your code...\n",
    "data_dev_text = list(data_dev['text'])                  #text to store raw text in python lists   \n",
    "data_dev_label = data_dev['label'].values               #label to store corresponding labels in numpy arrays\n",
    "\n",
    "data_test_text = list(data_test['text'])                    \n",
    "data_test_label = data_test['label'].values \n",
    "\n",
    "data_train_text = list(data_train['text'])                    \n",
    "data_train_label = data_train['label'].values "
   ]
  },
  {
   "cell_type": "markdown",
   "metadata": {},
   "source": [
    "# Bag-of-Words Representation \n",
    "\n",
    "\n",
    "To train and test Logisitc Regression models, you first need to obtain vector representations for all documents given a vocabulary of features (unigrams, bigrams, trigrams).\n",
    "\n",
    "\n",
    "## Text Pre-Processing Pipeline\n",
    "\n",
    "To obtain a vocabulary of features, you should: \n",
    "- tokenise all texts into a list of unigrams (tip: using a regular expression) \n",
    "- remove stop words (using the one provided or one of your preference) \n",
    "- compute bigrams, trigrams given the remaining unigrams\n",
    "- remove ngrams appearing in less than K documents\n",
    "- use the remaining to create a vocabulary of unigrams, bigrams and trigrams (you can keep top N if you encounter memory issues).\n"
   ]
  },
  {
   "cell_type": "code",
   "execution_count": 5,
   "metadata": {
    "ExecuteTime": {
     "end_time": "2020-02-15T14:17:31.860420Z",
     "start_time": "2020-02-15T14:17:31.855439Z"
    }
   },
   "outputs": [],
   "source": [
    "stop_words = ['a','in','on','at','and','or', \n",
    "              'to', 'the', 'of', 'an', 'by', \n",
    "              'as', 'is', 'was', 'were', 'been', 'be', \n",
    "              'are','for', 'this', 'that', 'these', 'those', 'you', 'i',\n",
    "             'it', 'he', 'she', 'we', 'they' 'will', 'have', 'has',\n",
    "              'do', 'did', 'can', 'could', 'who', 'which', 'what', \n",
    "             'his', 'her', 'they', 'them', 'from', 'with', 'its']"
   ]
  },
  {
   "cell_type": "markdown",
   "metadata": {},
   "source": [
    "### N-gram extraction from a document\n",
    "\n",
    "You first need to implement the `extract_ngrams` function. It takes as input:\n",
    "- `x_raw`: a string corresponding to the raw text of a document\n",
    "- `ngram_range`: a tuple of two integers denoting the type of ngrams you want to extract, e.g. (1,2) denotes extracting unigrams and bigrams.\n",
    "- `token_pattern`: a string to be used within a regular expression to extract all tokens. Note that data is already tokenised so you could opt for a simple white space tokenisation.\n",
    "- `stop_words`: a list of stop words\n",
    "- `vocab`: a given vocabulary. It should be used to extract specific features.\n",
    "\n",
    "and returns:\n",
    "\n",
    "- a list of all extracted features.\n",
    "\n",
    "See the examples below to see how this function should work."
   ]
  },
  {
   "cell_type": "code",
   "execution_count": 6,
   "metadata": {
    "ExecuteTime": {
     "end_time": "2020-02-15T14:17:33.169090Z",
     "start_time": "2020-02-15T14:17:33.161268Z"
    }
   },
   "outputs": [],
   "source": [
    "def extract_ngrams(x_raw, ngram_range=(1,3), token_pattern=r'\\b[A-Za-z][A-Za-z]+\\b', stop_words=[], vocab=None):\n",
    "    \n",
    "    # fill in your code...\n",
    "    filtered_word_list = []\n",
    "    #regularization first\n",
    "    token_word_list = re.findall(token_pattern,x_raw)\n",
    "    #stop words removal\n",
    "    stopped_word_list = []\n",
    "    for word in token_word_list:\n",
    "        if word not in stop_words:          #if word not in stoplist, add it\n",
    "            stopped_word_list.append(word)\n",
    "    #        \n",
    "    ngram = []\n",
    "    for grams in range(ngram_range[0] , ngram_range[1] + 1):       #input is range(1,3), but we need 3 grams\n",
    "        if grams == 1:                                             #ensure single word is 'great' not ['great']\n",
    "            for i in range(len(stopped_word_list) - (grams - 1)):\n",
    "                ngram = ngram + stopped_word_list[i : i + grams]\n",
    "        else:                   \n",
    "            for i in range(len(stopped_word_list) - (grams - 1)):\n",
    "                ngram.append(tuple(stopped_word_list[i : i + grams]))     #this is how to append n gram element using tuple\n",
    "    if vocab == None:\n",
    "        return ngram\n",
    "    else:\n",
    "        ngram = [item for item in ngram if item in vocab]      #set the out put according to vocab input\n",
    "        return ngram\n",
    "\n",
    "\n"
   ]
  },
  {
   "cell_type": "code",
   "execution_count": 7,
   "metadata": {
    "ExecuteTime": {
     "end_time": "2020-02-15T14:17:33.680114Z",
     "start_time": "2020-02-15T14:17:33.675339Z"
    }
   },
   "outputs": [
    {
     "data": {
      "text/plain": [
       "['great',\n",
       " 'movie',\n",
       " 'watch',\n",
       " ('great', 'movie'),\n",
       " ('movie', 'watch'),\n",
       " ('great', 'movie', 'watch')]"
      ]
     },
     "execution_count": 7,
     "metadata": {},
     "output_type": "execute_result"
    }
   ],
   "source": [
    "extract_ngrams(\"this is a great movie to watch\", \n",
    "               ngram_range=(1,3), \n",
    "               stop_words=stop_words)"
   ]
  },
  {
   "cell_type": "code",
   "execution_count": 8,
   "metadata": {
    "ExecuteTime": {
     "end_time": "2020-02-15T14:17:34.278189Z",
     "start_time": "2020-02-15T14:17:34.273722Z"
    }
   },
   "outputs": [
    {
     "data": {
      "text/plain": [
       "['great', ('great', 'movie')]"
      ]
     },
     "execution_count": 8,
     "metadata": {},
     "output_type": "execute_result"
    }
   ],
   "source": [
    "extract_ngrams(\"this is a great movie to watch\", \n",
    "               ngram_range=(1,2), \n",
    "               stop_words=stop_words, \n",
    "               vocab=set(['great', ('great','movie')]))"
   ]
  },
  {
   "cell_type": "markdown",
   "metadata": {},
   "source": [
    "Note that it is OK to represent n-grams using lists instead of tuples: e.g. `['great', ['great', 'movie']]`"
   ]
  },
  {
   "cell_type": "markdown",
   "metadata": {},
   "source": [
    "### Create a vocabulary of n-grams\n",
    "\n",
    "Then the `get_vocab` function will be used to (1) create a vocabulary of ngrams; (2) count the document frequencies of ngrams; (3) their raw frequency. It takes as input:\n",
    "- `X_raw`: a list of strings each corresponding to the raw text of a document\n",
    "- `ngram_range`: a tuple of two integers denoting the type of ngrams you want to extract, e.g. (1,2) denotes extracting unigrams and bigrams.\n",
    "- `token_pattern`: a string to be used within a regular expression to extract all tokens. Note that data is already tokenised so you could opt for a simple white space tokenisation.\n",
    "- `stop_words`: a list of stop words\n",
    "- `vocab`: a given vocabulary. It should be used to extract specific features.\n",
    "- `min_df`: keep ngrams with a minimum document frequency.\n",
    "- `keep_topN`: keep top-N more frequent ngrams.\n",
    "\n",
    "and returns:\n",
    "\n",
    "- `vocab`: a set of the n-grams that will be used as features.\n",
    "- `df`: a Counter (or dict) that contains ngrams as keys and their corresponding document frequency as values.\n",
    "- `ngram_counts`: counts of each ngram in vocab\n",
    "\n",
    "Hint: it should make use of the `extract_ngrams` function."
   ]
  },
  {
   "cell_type": "code",
   "execution_count": 9,
   "metadata": {
    "ExecuteTime": {
     "end_time": "2020-02-15T14:17:35.821240Z",
     "start_time": "2020-02-15T14:17:35.814722Z"
    }
   },
   "outputs": [],
   "source": [
    "def get_vocab(X_raw, ngram_range=(1,3), token_pattern=r'\\b[A-Za-z][A-Za-z]+\\b', min_df=0, keep_topN=0, stop_words=[]):\n",
    "    list_ngram = []\n",
    "    list_vocab = []\n",
    "    ngram_counts = []\n",
    "    #extract ngrams from X_raw\n",
    "    for i in range(len(X_raw)):\n",
    "    #turning it into set to avoid one ngram repeation in a text.   eg.'good' appears twice in a text bur we count it once\n",
    "        list_ngram = list_ngram + list(set(extract_ngrams(data_train_text[i], ngram_range, token_pattern, stop_words)))\n",
    "    #count how many times each ngram appears using Counter\n",
    "    df_raw = Counter(list_ngram)\n",
    "    #keep ngrams more than min_df\n",
    "    dic_df_raw = dict(df_raw)\n",
    "    dic_df_filtered = {}\n",
    "    for key in dic_df_raw:\n",
    "        if dic_df_raw[key] > min_df:   \n",
    "            dic_df_filtered[key] = dic_df_raw[key]\n",
    "    filtered_df = Counter(dic_df_filtered)\n",
    "    #keep top-N more frequent ngrams\n",
    "    list_df = filtered_df.most_common(keep_topN)\n",
    "    #get topN vocab\n",
    "    vocab = [list_df[i][0] for i in range(len(list_df))]\n",
    "\n",
    "    return vocab, filtered_df, ngram_counts"
   ]
  },
  {
   "cell_type": "markdown",
   "metadata": {},
   "source": [
    "Now you should use `get_vocab` to create your vocabulary and get document and raw frequencies of n-grams:"
   ]
  },
  {
   "cell_type": "code",
   "execution_count": 10,
   "metadata": {
    "ExecuteTime": {
     "end_time": "2020-02-15T14:17:39.319793Z",
     "start_time": "2020-02-15T14:17:36.836545Z"
    }
   },
   "outputs": [
    {
     "name": "stdout",
     "output_type": "stream",
     "text": [
      "5000\n",
      "\n",
      "['but', 'one', 'film', 'not', 'all', 'movie', 'out', 'so', 'there', 'like', 'more', 'up', 'about', 'when', 'some', 'if', 'just', 'only', 'into', 'than', 'their', 'even', 'time', 'most', 'no', 'good', 'much', 'him', 'would', 'other', 'get', 'story', 'well', 'will', 'also', 'two', 'after', 'first', 'character', 'make', 'way', 'characters', 'off', 'see', 'very', 'while', 'does', 'any', 'where', 'too', 'little', 'plot', 'because', 'over', 'director', 'had', 'how', 'then', 'best', 'being', 'people', 'doesn', 'really', 'man', 'never', 'life', 'through', 'films', 'here', 'don', 'many', 'another', 'such', 'scene', 'me', 'bad', 'know', 'made', 'scenes', 'my', 'new', 'end', 'go', 'before', 'back', 'makes', 'great', 'something', 'work', 'movies', 'still', 'better', 'now', 'few', 'down', 'seems', 'around', 'every', 're', 'enough']\n",
      "\n",
      "[('but', 1334), ('one', 1247), ('film', 1231), ('not', 1170), ('all', 1117), ('movie', 1095), ('out', 1080), ('so', 1047), ('there', 1046), ('like', 1043)]\n"
     ]
    }
   ],
   "source": [
    "vocab, df, ngram_counts = get_vocab(data_train_text, ngram_range=(1,3), keep_topN=5000, stop_words=stop_words)\n",
    "print(len(vocab))\n",
    "print()\n",
    "print(list(vocab)[:100])\n",
    "print()\n",
    "print(df.most_common()[:10])"
   ]
  },
  {
   "cell_type": "markdown",
   "metadata": {},
   "source": [
    "Then, you need to create vocabulary id -> word and id -> word dictionaries for reference:"
   ]
  },
  {
   "cell_type": "code",
   "execution_count": 11,
   "metadata": {
    "ExecuteTime": {
     "end_time": "2020-02-15T14:17:39.326811Z",
     "start_time": "2020-02-15T14:17:39.322256Z"
    }
   },
   "outputs": [],
   "source": [
    "# fill in your code...\n",
    "word_to_id = {}\n",
    "id_to_word = {}\n",
    "for i in range(len(list(vocab))):\n",
    "    word_to_id[vocab[i]] = i    #word as key\n",
    "    id_to_word[i] = [vocab[i]]  #id as key"
   ]
  },
  {
   "cell_type": "markdown",
   "metadata": {},
   "source": [
    "Now you should be able to extract n-grams for each text in the training, development and test sets:"
   ]
  },
  {
   "cell_type": "code",
   "execution_count": 12,
   "metadata": {
    "ExecuteTime": {
     "end_time": "2020-02-15T14:17:40.213253Z",
     "start_time": "2020-02-15T14:17:39.329147Z"
    }
   },
   "outputs": [],
   "source": [
    "# fill in your code...\n",
    "train_ngram = []\n",
    "for i in range(len(data_train_text)):\n",
    "    train_ngram.append(extract_ngrams(data_train_text[i], (1,3), r'\\b[A-Za-z][A-Za-z]+\\b', stop_words,vocab))\n",
    "test_ngram = []\n",
    "for i in range(len(data_test_text)):\n",
    "    test_ngram.append(extract_ngrams(data_test_text[i], (1,3), r'\\b[A-Za-z][A-Za-z]+\\b', stop_words,vocab))\n",
    "dev_ngram = []\n",
    "for i in range(len(data_dev_text)):\n",
    "    dev_ngram.append(extract_ngrams(data_dev_text[i], (1,3), r'\\b[A-Za-z][A-Za-z]+\\b', stop_words,vocab))"
   ]
  },
  {
   "cell_type": "markdown",
   "metadata": {},
   "source": [
    "## Vectorise documents "
   ]
  },
  {
   "cell_type": "markdown",
   "metadata": {},
   "source": [
    "Next, write a function `vectoriser` to obtain Bag-of-ngram representations for a list of documents. The function should take as input:\n",
    "- `X_ngram`: a list of texts (documents), where each text is represented as list of n-grams in the `vocab`\n",
    "- `vocab`: a set of n-grams to be used for representing the documents\n",
    "\n",
    "and return:\n",
    "- `X_vec`: an array with dimensionality Nx|vocab| where N is the number of documents and |vocab| is the size of the vocabulary. Each element of the array should represent the frequency of a given n-gram in a document.\n"
   ]
  },
  {
   "cell_type": "code",
   "execution_count": 13,
   "metadata": {
    "ExecuteTime": {
     "end_time": "2020-02-15T14:17:40.219201Z",
     "start_time": "2020-02-15T14:17:40.215129Z"
    }
   },
   "outputs": [],
   "source": [
    "def vectorise(X_ngram, vocab):\n",
    "    #dimensionality N(the number of documents) == how many list in the array  \n",
    "    #dimensionality |vocab|(the size of vocabulary) == how many element in each list of the array\n",
    "    X_vec = np.zeros(shape=(len(X_ngram),len(list(vocab)))) #template\n",
    "    for i in range(len(X_ngram)):           #in the document i\n",
    "        for j in range(len(X_ngram[i])):    #ngram word j in the document i\n",
    "            x = word_to_id[X_ngram[i][j]]   #find the id in vocab according to word\n",
    "            X_vec[i,x] += 1                 #in the document i, the id position of vocab, count +1\n",
    "        \n",
    "    return X_vec"
   ]
  },
  {
   "cell_type": "markdown",
   "metadata": {},
   "source": [
    "Finally, use `vectorise` to obtain document vectors for each document in the train, development and test set. You should extract both count and tf.idf vectors respectively:"
   ]
  },
  {
   "cell_type": "markdown",
   "metadata": {},
   "source": [
    "#### Count vectors"
   ]
  },
  {
   "cell_type": "code",
   "execution_count": 14,
   "metadata": {
    "ExecuteTime": {
     "end_time": "2020-02-15T14:17:41.999574Z",
     "start_time": "2020-02-15T14:17:40.376534Z"
    }
   },
   "outputs": [],
   "source": [
    "train_vec = vectorise(train_ngram,vocab)\n",
    "test_vec = vectorise(test_ngram,vocab)\n",
    "dev_vec = vectorise(dev_ngram,vocab)"
   ]
  },
  {
   "cell_type": "code",
   "execution_count": 15,
   "metadata": {
    "ExecuteTime": {
     "end_time": "2020-02-15T14:17:42.004808Z",
     "start_time": "2020-02-15T14:17:42.001555Z"
    }
   },
   "outputs": [
    {
     "data": {
      "text/plain": [
       "(1400, 5000)"
      ]
     },
     "execution_count": 15,
     "metadata": {},
     "output_type": "execute_result"
    }
   ],
   "source": [
    "train_vec.shape"
   ]
  },
  {
   "cell_type": "code",
   "execution_count": 16,
   "metadata": {
    "ExecuteTime": {
     "end_time": "2020-02-15T14:17:42.010525Z",
     "start_time": "2020-02-15T14:17:42.006309Z"
    }
   },
   "outputs": [
    {
     "data": {
      "text/plain": [
       "array([[ 6.,  8., 20.,  4.,  1.,  0.,  1.,  3.,  1.,  0.,  1.,  0.,  1.,\n",
       "         0.,  1.,  1.,  2.,  4.,  2.,  1.,  6.,  3.,  0.,  4.,  1.,  1.,\n",
       "         1.,  0.,  3.,  0.,  0.,  2.,  0.,  1.,  0.,  1.,  0.,  2.,  3.,\n",
       "         0.,  0.,  4.,  1.,  1.,  0.,  3.,  0.,  1.,  1.,  0.],\n",
       "       [ 2.,  5.,  6.,  2.,  4.,  0.,  2.,  3.,  2.,  3.,  3.,  4.,  2.,\n",
       "         0.,  2.,  2.,  0.,  0.,  2.,  3.,  0.,  0.,  2.,  2.,  1.,  1.,\n",
       "         1.,  5.,  1.,  1.,  1.,  2.,  0.,  4.,  1.,  1.,  0.,  0.,  5.,\n",
       "         1.,  2.,  0.,  0.,  1.,  0.,  3.,  1.,  1.,  2.,  0.]])"
      ]
     },
     "execution_count": 16,
     "metadata": {},
     "output_type": "execute_result"
    }
   ],
   "source": [
    "train_vec[:2,:50]"
   ]
  },
  {
   "cell_type": "markdown",
   "metadata": {},
   "source": [
    "#### TF.IDF vectors\n",
    "\n",
    "First compute `idfs` an array containing inverted document frequencies (Note: its elements should correspond to your `vocab`)"
   ]
  },
  {
   "cell_type": "code",
   "execution_count": 17,
   "metadata": {
    "ExecuteTime": {
     "end_time": "2020-02-15T14:17:42.022692Z",
     "start_time": "2020-02-15T14:17:42.012315Z"
    }
   },
   "outputs": [
    {
     "data": {
      "text/plain": [
       "array([0.02097221, 0.05026158, 0.05586998, ..., 1.89085553, 1.91567911,\n",
       "       1.91567911])"
      ]
     },
     "execution_count": 17,
     "metadata": {},
     "output_type": "execute_result"
    }
   ],
   "source": [
    "# fill in your code...\n",
    "#idf = log10(N/n)     n means df\n",
    "import math\n",
    "N = len(train_ngram)\n",
    "idf = []\n",
    "[rows, cols] = train_vec.shape\n",
    "#each element go through col\n",
    "for j in range(cols):\n",
    "    n = 0\n",
    "    for i in range(rows):\n",
    "        if train_vec[i,j] > 0:\n",
    "            n += 1\n",
    "    idf.append(math.log10(N/n))\n",
    "idfs = np.array(idf)\n",
    "idfs"
   ]
  },
  {
   "cell_type": "markdown",
   "metadata": {},
   "source": [
    "Then transform your count vectors to tf.idf vectors:"
   ]
  },
  {
   "cell_type": "code",
   "execution_count": 18,
   "metadata": {
    "ExecuteTime": {
     "end_time": "2020-02-15T14:17:42.802265Z",
     "start_time": "2020-02-15T14:17:42.752448Z"
    },
    "scrolled": true
   },
   "outputs": [],
   "source": [
    "# fill in your code...\n",
    "tfidf_train = train_vec * idfs\n",
    "tfidf_dev = dev_vec * idfs\n",
    "tfidf_test = test_vec * idfs"
   ]
  },
  {
   "cell_type": "code",
   "execution_count": 19,
   "metadata": {
    "ExecuteTime": {
     "end_time": "2020-02-15T14:17:43.211619Z",
     "start_time": "2020-02-15T14:17:43.207266Z"
    },
    "scrolled": true
   },
   "outputs": [
    {
     "data": {
      "text/plain": [
       "array([0.04194441, 0.25130791, 0.3352199 , 0.15588435, 0.39229945,\n",
       "       0.        , 0.22540856, 0.37854406, 0.2531927 , 0.38353118,\n",
       "       0.38728409, 0.55011146, 0.28361332, 0.        , 0.32320144,\n",
       "       0.34692489, 0.        , 0.        , 0.36468042, 0.55839959,\n",
       "       0.        , 0.        , 0.40923321, 0.43239695, 0.21927133,\n",
       "       0.22967409, 0.24195367, 1.24525516, 0.25626631, 0.25794854,\n",
       "       0.26076682, 0.52266534, 0.        , 1.06583532, 0.26818108,\n",
       "       0.2699102 , 0.        , 0.        , 1.37569611, 0.29609478,\n",
       "       0.59341724, 0.        , 0.        , 0.30664999, 0.        ,\n",
       "       0.94469503, 0.32330639, 0.32395996, 0.65580428, 0.        ])"
      ]
     },
     "execution_count": 19,
     "metadata": {},
     "output_type": "execute_result"
    }
   ],
   "source": [
    "tfidf_train[1,:50]"
   ]
  },
  {
   "cell_type": "markdown",
   "metadata": {},
   "source": [
    "# Binary Logistic Regression\n",
    "\n",
    "After obtaining vector representations of the data, now you are ready to implement Binary Logistic Regression for classifying sentiment."
   ]
  },
  {
   "cell_type": "markdown",
   "metadata": {},
   "source": [
    "First, you need to implement the `sigmoid` function. It takes as input:\n",
    "\n",
    "- `z`: a real number or an array of real numbers \n",
    "\n",
    "and returns:\n",
    "\n",
    "- `sig`: the sigmoid of `z`"
   ]
  },
  {
   "cell_type": "code",
   "execution_count": 29,
   "metadata": {
    "ExecuteTime": {
     "end_time": "2020-02-15T14:17:44.160661Z",
     "start_time": "2020-02-15T14:17:44.157902Z"
    }
   },
   "outputs": [],
   "source": [
    "def sigmoid(z):\n",
    "    \n",
    "    # fill in your code...\n",
    "    sig = 1.0 / (1 + np.exp(-z))\n",
    "    \n",
    "    return sig"
   ]
  },
  {
   "cell_type": "code",
   "execution_count": 30,
   "metadata": {
    "ExecuteTime": {
     "end_time": "2020-02-15T14:17:44.351292Z",
     "start_time": "2020-02-15T14:17:44.346822Z"
    }
   },
   "outputs": [
    {
     "name": "stdout",
     "output_type": "stream",
     "text": [
      "0.5\n",
      "[0.00669285 0.76852478]\n"
     ]
    }
   ],
   "source": [
    "print(sigmoid(0)) \n",
    "print(sigmoid(np.array([-5., 1.2])))"
   ]
  },
  {
   "cell_type": "markdown",
   "metadata": {},
   "source": [
    "Then, implement the `predict_proba` function to obtain prediction probabilities. It takes as input:\n",
    "\n",
    "- `X`: an array of inputs, i.e. documents represented by bag-of-ngram vectors ($N \\times |vocab|$)\n",
    "- `weights`: a 1-D array of the model's weights $(1, |vocab|)$\n",
    "\n",
    "and returns:\n",
    "\n",
    "- `preds_proba`: the prediction probabilities of X given the weights"
   ]
  },
  {
   "cell_type": "code",
   "execution_count": 31,
   "metadata": {
    "ExecuteTime": {
     "end_time": "2020-02-15T14:17:44.718566Z",
     "start_time": "2020-02-15T14:17:44.715017Z"
    }
   },
   "outputs": [],
   "source": [
    "def predict_proba(X, weights):\n",
    "    \n",
    "    # fill in your code...\n",
    "    preds_proba = sigmoid(np.dot(X , weights))\n",
    "    \n",
    "    #return data in form of array (N,)\n",
    "    return preds_proba"
   ]
  },
  {
   "cell_type": "markdown",
   "metadata": {},
   "source": [
    "Then, implement the `predict_class` function to obtain the most probable class for each vector in an array of input vectors. It takes as input:\n",
    "\n",
    "- `X`: an array of documents represented by bag-of-ngram vectors ($N \\times |vocab|$)\n",
    "- `weights`: a 1-D array of the model's weights $(1, |vocab|)$\n",
    "\n",
    "and returns:\n",
    "\n",
    "- `preds_class`: the predicted class for each x in X given the weights"
   ]
  },
  {
   "cell_type": "code",
   "execution_count": 32,
   "metadata": {
    "ExecuteTime": {
     "end_time": "2020-02-15T14:17:45.002125Z",
     "start_time": "2020-02-15T14:17:44.998668Z"
    }
   },
   "outputs": [],
   "source": [
    "def predict_class(X, weights):\n",
    "    \n",
    "    # fill in your code...\n",
    "    preds_proba = sigmoid(np.dot(X , weights))\n",
    "\n",
    "    for i in range(len(preds_proba)):\n",
    "        if preds_proba[i] >= 0.5:\n",
    "            preds_proba[i] = 1\n",
    "        else:\n",
    "            preds_proba[i] = 0\n",
    "    preds_class = np.array(preds_proba)\n",
    "    \n",
    "    return preds_class"
   ]
  },
  {
   "cell_type": "markdown",
   "metadata": {},
   "source": [
    "To learn the weights from data, we need to minimise the binary cross-entropy loss. Implement `binary_loss` that takes as input:\n",
    "\n",
    "- `X`: input vectors\n",
    "- `Y`: labels\n",
    "- `weights`: model weights\n",
    "- `alpha`: regularisation strength\n",
    "\n",
    "and return:\n",
    "\n",
    "- `l`: the loss score"
   ]
  },
  {
   "cell_type": "code",
   "execution_count": 33,
   "metadata": {
    "ExecuteTime": {
     "end_time": "2020-02-15T14:17:45.455533Z",
     "start_time": "2020-02-15T14:17:45.451475Z"
    }
   },
   "outputs": [],
   "source": [
    "def binary_loss(X, Y, weights, alpha=0.00001):\n",
    "    \n",
    "    # fill in your code...\n",
    "    \n",
    "    predictions = predict_proba(X, weights)\n",
    "    #Take the loss when label=1\n",
    "    class1_loss = -1*np.dot(Y,np.log(predictions))\n",
    "    #Take the loss when label=0\n",
    "    class2_loss = np.dot((1-Y),np.log(1-predictions))\n",
    "    #Take the sum of both loss\n",
    "    loss = class1_loss - class2_loss + alpha * np.dot(weights,weights)\n",
    "    #Take average loss\n",
    "    l = loss / len(Y) \n",
    "    \n",
    "    return l"
   ]
  },
  {
   "cell_type": "markdown",
   "metadata": {},
   "source": [
    "Now, you can implement Stochastic Gradient Descent to learn the weights of your sentiment classifier. The `SGD` function takes as input:\n",
    "\n",
    "- `X_tr`: array of training data (vectors)\n",
    "- `Y_tr`: labels of `X_tr`\n",
    "- `X_dev`: array of development (i.e. validation) data (vectors)\n",
    "- `Y_dev`: labels of `X_dev`\n",
    "- `lr`: learning rate\n",
    "- `alpha`: regularisation strength\n",
    "- `epochs`: number of full passes over the training data\n",
    "- `tolerance`: stop training if the difference between the current and previous validation loss is smaller than a threshold\n",
    "- `print_progress`: flag for printing the training progress (train/validation loss)\n",
    "\n",
    "\n",
    "and returns:\n",
    "\n",
    "- `weights`: the weights learned\n",
    "- `training_loss_history`: an array with the average losses of the whole training set after each epoch\n",
    "- `validation_loss_history`: an array with the average losses of the whole development set after each epoch"
   ]
  },
  {
   "cell_type": "code",
   "execution_count": 34,
   "metadata": {
    "ExecuteTime": {
     "end_time": "2020-02-15T14:17:45.968510Z",
     "start_time": "2020-02-15T14:17:45.958185Z"
    }
   },
   "outputs": [],
   "source": [
    "def SGD(X_tr, Y_tr, X_dev=[], Y_dev=[], loss=\"binary\", lr=0.1, alpha=0.00001, epochs=5, tolerance=0.0001, print_progress=True):\n",
    "    \n",
    "    cur_loss_tr = 1.\n",
    "    cur_loss_dev = 1.\n",
    "    training_loss_history = []\n",
    "    validation_loss_history = []\n",
    "    # fill in your code...\n",
    "    \n",
    "    # initialize w with zeros\n",
    "    list_weights = []\n",
    "    for j in range(len(list(vocab))):\n",
    "        list_weights.append(0.)\n",
    "    weights = np.array(list_weights)\n",
    "    #split whole trainging vectors into 10 batch\n",
    "    iteration = 10\n",
    "    batch_size = int(len(X_tr)/iteration)\n",
    "    #epoch\n",
    "    for i in range(epochs):\n",
    "        #Randomise the data order data after each pass\n",
    "        idx = np.arange(len(X_tr))\n",
    "        np.random.shuffle(idx)\n",
    "        for j in range(iteration):\n",
    "            temp_idx = idx[j*batch_size:(j+1)*batch_size]\n",
    "            temp_label = Y_tr[temp_idx]\n",
    "            temp_data = X_tr[temp_idx]\n",
    "            #update weights\n",
    "            predictions = predict_proba(temp_data, weights)\n",
    "            gradient = np.dot(predictions - temp_label,temp_data) +  2*alpha * weights #L2 regularisation\n",
    "            weights = weights - lr * gradient\n",
    "        #count loss and document    \n",
    "        cur_loss_tr = binary_loss(X_tr,Y_tr, weights,alpha)\n",
    "        cur_loss_dev = binary_loss(X_dev,Y_dev, weights,alpha)\n",
    "        training_loss_history.append(cur_loss_tr)\n",
    "        validation_loss_history.append(cur_loss_dev)\n",
    "        \n",
    "        # After each epoch print loss\n",
    "        print(\"Epoch: \" + str(i) + \"| Training loss: \" + str(cur_loss_tr) + \"| Validation loss: \" + str(cur_loss_dev))\n",
    "\n",
    "        #Stop training if the difference between the current and previous validation loss is smaller than a threshold\n",
    "        if i>=1 and validation_loss_history[i-1]-validation_loss_history[i] < tolerance:\n",
    "            break\n",
    "    \n",
    "    return weights, training_loss_history, validation_loss_history"
   ]
  },
  {
   "cell_type": "markdown",
   "metadata": {},
   "source": [
    "## Train and Evaluate Logistic Regression with Count vectors\n",
    "\n",
    "First train the model using SGD:"
   ]
  },
  {
   "cell_type": "code",
   "execution_count": 55,
   "metadata": {
    "ExecuteTime": {
     "end_time": "2020-02-15T14:17:51.480197Z",
     "start_time": "2020-02-15T14:17:46.362729Z"
    },
    "scrolled": true
   },
   "outputs": [
    {
     "name": "stdout",
     "output_type": "stream",
     "text": [
      "Epoch: 0| Training loss: 0.6318260682481373| Validation loss: 0.6503282718341826\n",
      "Epoch: 1| Training loss: 0.5935732107171301| Validation loss: 0.6264058444933792\n",
      "Epoch: 2| Training loss: 0.5529255809104361| Validation loss: 0.5923747860304771\n",
      "Epoch: 3| Training loss: 0.526323913442715| Validation loss: 0.5745934030903208\n",
      "Epoch: 4| Training loss: 0.5040243721384909| Validation loss: 0.5606394876795331\n",
      "Epoch: 5| Training loss: 0.4848768776384844| Validation loss: 0.5483712519243921\n",
      "Epoch: 6| Training loss: 0.46836097990010095| Validation loss: 0.5372212528937722\n",
      "Epoch: 7| Training loss: 0.45363718353838706| Validation loss: 0.5280056101393149\n",
      "Epoch: 8| Training loss: 0.4403611270939647| Validation loss: 0.5206279197463074\n",
      "Epoch: 9| Training loss: 0.4285246404664963| Validation loss: 0.5120307628843075\n",
      "Epoch: 10| Training loss: 0.4173164047660311| Validation loss: 0.5055635698050885\n",
      "Epoch: 11| Training loss: 0.4137534002447089| Validation loss: 0.5027154005814911\n",
      "Epoch: 12| Training loss: 0.39788019599030583| Validation loss: 0.49372519318721003\n",
      "Epoch: 13| Training loss: 0.3896491002825859| Validation loss: 0.4884744036758441\n",
      "Epoch: 14| Training loss: 0.3810871767872295| Validation loss: 0.4845752321556776\n",
      "Epoch: 15| Training loss: 0.3733731653754387| Validation loss: 0.4796963877449533\n",
      "Epoch: 16| Training loss: 0.3673595035493307| Validation loss: 0.47531465884720847\n",
      "Epoch: 17| Training loss: 0.35946281096675453| Validation loss: 0.47131128563624025\n",
      "Epoch: 18| Training loss: 0.35373356813753887| Validation loss: 0.4675861118878249\n",
      "Epoch: 19| Training loss: 0.3468660318725482| Validation loss: 0.46416939184147255\n",
      "Epoch: 20| Training loss: 0.34105029274195636| Validation loss: 0.4609634234418641\n",
      "Epoch: 21| Training loss: 0.33546710585866474| Validation loss: 0.45806874946656095\n",
      "Epoch: 22| Training loss: 0.33100159383180866| Validation loss: 0.45715374470415737\n",
      "Epoch: 23| Training loss: 0.32647989107805214| Validation loss: 0.45536632021736545\n",
      "Epoch: 24| Training loss: 0.3207932767648143| Validation loss: 0.45130989804952143\n",
      "Epoch: 25| Training loss: 0.3155755764718912| Validation loss: 0.44727188675561236\n",
      "Epoch: 26| Training loss: 0.3116512833976638| Validation loss: 0.4447378952377365\n",
      "Epoch: 27| Training loss: 0.3068311489390277| Validation loss: 0.44314091796645316\n",
      "Epoch: 28| Training loss: 0.30276088970819726| Validation loss: 0.44119479946476026\n",
      "Epoch: 29| Training loss: 0.2986723169599868| Validation loss: 0.43898406592091677\n",
      "Epoch: 30| Training loss: 0.29471453685676763| Validation loss: 0.43675512298256763\n",
      "Epoch: 31| Training loss: 0.291058645105811| Validation loss: 0.4344489810982459\n",
      "Epoch: 32| Training loss: 0.28760481820720063| Validation loss: 0.4327159457707394\n",
      "Epoch: 33| Training loss: 0.28381872376134787| Validation loss: 0.431391109047106\n",
      "Epoch: 34| Training loss: 0.2803856499855291| Validation loss: 0.42956967967218207\n",
      "Epoch: 35| Training loss: 0.27712972832552246| Validation loss: 0.4282759827363957\n",
      "Epoch: 36| Training loss: 0.2741974664651116| Validation loss: 0.42634738859543775\n",
      "Epoch: 37| Training loss: 0.27079074983043877| Validation loss: 0.42493695991878494\n",
      "Epoch: 38| Training loss: 0.2687128389699778| Validation loss: 0.42384451375895\n",
      "Epoch: 39| Training loss: 0.26480062336530225| Validation loss: 0.42223564368031274\n",
      "Epoch: 40| Training loss: 0.26233569110079313| Validation loss: 0.4208872167496427\n",
      "Epoch: 41| Training loss: 0.2598222168340098| Validation loss: 0.41983793800581526\n",
      "Epoch: 42| Training loss: 0.25647133849756765| Validation loss: 0.41845477855333935\n",
      "Epoch: 43| Training loss: 0.2537855401983279| Validation loss: 0.4174585603125224\n",
      "Epoch: 44| Training loss: 0.251250799778745| Validation loss: 0.4165685855879744\n",
      "Epoch: 45| Training loss: 0.24880728873754213| Validation loss: 0.41569792499564373\n",
      "Epoch: 46| Training loss: 0.24647404440656862| Validation loss: 0.4141111733298498\n",
      "Epoch: 47| Training loss: 0.24402096335719567| Validation loss: 0.41389848249816263\n",
      "Epoch: 48| Training loss: 0.24158524464012962| Validation loss: 0.412713172920637\n",
      "Epoch: 49| Training loss: 0.2392733248292509| Validation loss: 0.4112512178345852\n",
      "Epoch: 50| Training loss: 0.23706468584989604| Validation loss: 0.4109127964444566\n",
      "Epoch: 51| Training loss: 0.23497133714479412| Validation loss: 0.41028435265388274\n",
      "Epoch: 52| Training loss: 0.23262492621297168| Validation loss: 0.4088163159961077\n",
      "Epoch: 53| Training loss: 0.23072741816878342| Validation loss: 0.4079219396082263\n",
      "Epoch: 54| Training loss: 0.228666100672196| Validation loss: 0.40782117805337575\n",
      "Epoch: 55| Training loss: 0.22647283271253757| Validation loss: 0.40654055970233416\n",
      "Epoch: 56| Training loss: 0.22472523247106535| Validation loss: 0.4056612580624613\n",
      "Epoch: 57| Training loss: 0.22257224663134606| Validation loss: 0.40507542733408575\n",
      "Epoch: 58| Training loss: 0.22069162462765718| Validation loss: 0.4043135154871441\n",
      "Epoch: 59| Training loss: 0.21885910629000127| Validation loss: 0.40361603741809\n",
      "Epoch: 60| Training loss: 0.21701758591594603| Validation loss: 0.40315145742199393\n",
      "Epoch: 61| Training loss: 0.2152320093580571| Validation loss: 0.40237438681036636\n",
      "Epoch: 62| Training loss: 0.21347421143721046| Validation loss: 0.4018241730095774\n",
      "Epoch: 63| Training loss: 0.21176263870747777| Validation loss: 0.4013473848660739\n",
      "Epoch: 64| Training loss: 0.210151584583626| Validation loss: 0.4005816011048951\n",
      "Epoch: 65| Training loss: 0.20846619640734332| Validation loss: 0.4000448456222088\n",
      "Epoch: 66| Training loss: 0.2067903212392676| Validation loss: 0.39957798246221876\n",
      "Epoch: 67| Training loss: 0.20523263685819818| Validation loss: 0.3993007957463298\n",
      "Epoch: 68| Training loss: 0.203778345335272| Validation loss: 0.39905690387289233\n",
      "Epoch: 69| Training loss: 0.20213246947178465| Validation loss: 0.398306346833862\n",
      "Epoch: 70| Training loss: 0.20061909001636763| Validation loss: 0.3978368898407463\n",
      "Epoch: 71| Training loss: 0.1990932386774993| Validation loss: 0.39725733992115875\n",
      "Epoch: 72| Training loss: 0.19761695838291676| Validation loss: 0.39655686508903165\n",
      "Epoch: 73| Training loss: 0.19631753328165014| Validation loss: 0.3967056334858571\n"
     ]
    }
   ],
   "source": [
    "w_count, loss_tr_count, dev_loss_count = SGD(train_vec, data_train_label, \n",
    "                                             X_dev=dev_vec, \n",
    "                                             Y_dev=data_dev_label, \n",
    "                                             lr=0.0001, \n",
    "                                             alpha=0.001, \n",
    "                                             epochs=100)"
   ]
  },
  {
   "cell_type": "markdown",
   "metadata": {},
   "source": [
    "Now plot the training and validation history per epoch. Does your model underfit, overfit or is it about right? Explain why."
   ]
  },
  {
   "cell_type": "code",
   "execution_count": 56,
   "metadata": {
    "ExecuteTime": {
     "end_time": "2020-02-15T14:17:51.598911Z",
     "start_time": "2020-02-15T14:17:51.482307Z"
    }
   },
   "outputs": [
    {
     "data": {
      "image/png": "[encoded data removed]",
      "text/plain": [
       "<Figure size 432x288 with 1 Axes>"
      ]
     },
     "metadata": {
      "needs_background": "light"
     },
     "output_type": "display_data"
    }
   ],
   "source": [
    "plt.title('Training Progress')\n",
    "sub_axix = np.arange(len(dev_loss_count))\n",
    "plt.plot(sub_axix, loss_tr_count, color='red', label='training loss')\n",
    "plt.plot(sub_axix, dev_loss_count, color='blue', label='validation loss')\n",
    "plt.legend()\n",
    "plt.xlabel('epochs')\n",
    "plt.ylabel('loss')\n",
    "plt.show()"
   ]
  },
  {
   "cell_type": "markdown",
   "metadata": {
    "ExecuteTime": {
     "end_time": "2020-01-21T16:52:26.583150Z",
     "start_time": "2020-01-21T16:52:26.578754Z"
    }
   },
   "source": [
    "Comment:\n",
    "\n",
    "It is overfitting because the loss of the training data is constantly decreasing but the loss rate of the validation data is remaining about the same."
   ]
  },
  {
   "cell_type": "markdown",
   "metadata": {},
   "source": [
    "Compute accuracy, precision, recall and F1-scores:"
   ]
  },
  {
   "cell_type": "code",
   "execution_count": 57,
   "metadata": {
    "ExecuteTime": {
     "end_time": "2020-02-15T14:37:40.569499Z",
     "start_time": "2020-02-15T14:37:40.566796Z"
    }
   },
   "outputs": [
    {
     "name": "stdout",
     "output_type": "stream",
     "text": [
      "Accuracy: 0.8325\n",
      "Precision: 0.821256038647343\n",
      "Recall: 0.85\n",
      "F1-Score: 0.8353808353808354\n"
     ]
    }
   ],
   "source": [
    "# fill in your code...\n",
    "preds_test_vec = predict_class(test_vec, w_count)\n",
    "print('Accuracy:', accuracy_score(data_test_label,preds_test_vec))\n",
    "print('Precision:', precision_score(data_test_label,preds_test_vec))\n",
    "print('Recall:', recall_score(data_test_label,preds_test_vec))\n",
    "print('F1-Score:', f1_score(data_test_label,preds_test_vec))"
   ]
  },
  {
   "cell_type": "markdown",
   "metadata": {},
   "source": [
    "Finally, print the top-10 words for the negative and positive class respectively."
   ]
  },
  {
   "cell_type": "code",
   "execution_count": 58,
   "metadata": {
    "ExecuteTime": {
     "end_time": "2020-02-15T14:37:07.638179Z",
     "start_time": "2020-02-15T14:37:07.635838Z"
    }
   },
   "outputs": [
    {
     "name": "stdout",
     "output_type": "stream",
     "text": [
      "['bad', 'only', 'unfortunately', 'worst', 'script', 'why', 'boring', 'plot', 'any', 'nothing']\n"
     ]
    }
   ],
   "source": [
    "# fill in your code...\n",
    "negative_top_10 = []\n",
    "top_k=-10\n",
    "top_k_idx=w_count.argsort()[::1][0:-top_k]\n",
    "for i in range(-top_k):\n",
    "    negative_top_10 += id_to_word[top_k_idx.tolist()[i]]\n",
    "print(negative_top_10)"
   ]
  },
  {
   "cell_type": "code",
   "execution_count": 59,
   "metadata": {
    "ExecuteTime": {
     "end_time": "2020-02-15T14:37:08.381103Z",
     "start_time": "2020-02-15T14:37:08.378641Z"
    }
   },
   "outputs": [
    {
     "name": "stdout",
     "output_type": "stream",
     "text": [
      "['great', 'well', 'also', 'seen', 'fun', 'life', 'many', 'world', 'movies', 'both']\n"
     ]
    }
   ],
   "source": [
    "# fill in your code...\n",
    "positive_top_10 = []\n",
    "top_k=10\n",
    "top_k_idx=w_count.argsort()[::-1][0:top_k]\n",
    "for i in range(top_k):\n",
    "    positive_top_10 += id_to_word[top_k_idx.tolist()[i]]\n",
    "print(positive_top_10)"
   ]
  },
  {
   "cell_type": "markdown",
   "metadata": {},
   "source": [
    "If we were to apply the classifier we've learned into a different domain such laptop reviews or restaurant reviews, do you think these features would generalise well? Can you propose what features the classifier could pick up as important in the new domain?"
   ]
  },
  {
   "cell_type": "markdown",
   "metadata": {},
   "source": [
    "Provide your answer here...\n",
    "\n",
    "I don’t think so, because top-10 words for negative and positive contain 'script', 'plot' and 'movies'. They are all words in the domain of movies.\n",
    "\n",
    "Features like 'great', 'well' , 'bad' can be used in any other new domains for classification."
   ]
  },
  {
   "cell_type": "markdown",
   "metadata": {},
   "source": [
    "## Train and Evaluate Logistic Regression with TF.IDF vectors\n",
    "\n",
    "Follow the same steps as above (i.e. evaluating count n-gram representations).\n"
   ]
  },
  {
   "cell_type": "code",
   "execution_count": 60,
   "metadata": {
    "ExecuteTime": {
     "end_time": "2020-02-15T14:17:54.414637Z",
     "start_time": "2020-02-15T14:17:51.625934Z"
    },
    "scrolled": true
   },
   "outputs": [
    {
     "name": "stdout",
     "output_type": "stream",
     "text": [
      "Epoch: 0| Training loss: 0.5219880461770563| Validation loss: 0.5969601898547768\n",
      "Epoch: 1| Training loss: 0.4389610504525999| Validation loss: 0.5523826193286804\n",
      "Epoch: 2| Training loss: 0.3784549047552951| Validation loss: 0.5190847573220091\n",
      "Epoch: 3| Training loss: 0.33734551439782984| Validation loss: 0.49654492774903924\n",
      "Epoch: 4| Training loss: 0.30533901638452987| Validation loss: 0.47875603817242157\n",
      "Epoch: 5| Training loss: 0.27998761976202224| Validation loss: 0.4650419652229384\n",
      "Epoch: 6| Training loss: 0.25899052284457685| Validation loss: 0.45388274907946935\n",
      "Epoch: 7| Training loss: 0.24123637965333788| Validation loss: 0.4447602327192227\n",
      "Epoch: 8| Training loss: 0.22593381854844485| Validation loss: 0.4366401279060254\n",
      "Epoch: 9| Training loss: 0.2128115760227552| Validation loss: 0.4297778550718387\n",
      "Epoch: 10| Training loss: 0.200953172691235| Validation loss: 0.4235473849849918\n",
      "Epoch: 11| Training loss: 0.1905538053238234| Validation loss: 0.4182836290812558\n",
      "Epoch: 12| Training loss: 0.18114388030641645| Validation loss: 0.4134976945540539\n",
      "Epoch: 13| Training loss: 0.17279717787213675| Validation loss: 0.4094890674626796\n",
      "Epoch: 14| Training loss: 0.16510144244263084| Validation loss: 0.40570884852191064\n",
      "Epoch: 15| Training loss: 0.15814691113785004| Validation loss: 0.40232326588357026\n",
      "Epoch: 16| Training loss: 0.15172269029323332| Validation loss: 0.3993027248540625\n",
      "Epoch: 17| Training loss: 0.14586261015009838| Validation loss: 0.3967339285295789\n",
      "Epoch: 18| Training loss: 0.14040691414339193| Validation loss: 0.39414547001086325\n",
      "Epoch: 19| Training loss: 0.13538937461545067| Validation loss: 0.39200218708768086\n",
      "Epoch: 20| Training loss: 0.1306920357827668| Validation loss: 0.3898862899179945\n",
      "Epoch: 21| Training loss: 0.12634535711181674| Validation loss: 0.38806984658084326\n",
      "Epoch: 22| Training loss: 0.12225065186724016| Validation loss: 0.3863118688996407\n",
      "Epoch: 23| Training loss: 0.11842834392181406| Validation loss: 0.38480468247930877\n",
      "Epoch: 24| Training loss: 0.11483804732698814| Validation loss: 0.38339313467519914\n",
      "Epoch: 25| Training loss: 0.11146307705980092| Validation loss: 0.3821041217575333\n",
      "Epoch: 26| Training loss: 0.10830596774959424| Validation loss: 0.38101373992349524\n",
      "Epoch: 27| Training loss: 0.10526962546039985| Validation loss: 0.37979286387391836\n",
      "Epoch: 28| Training loss: 0.1024222368295089| Validation loss: 0.37873000319995254\n",
      "Epoch: 29| Training loss: 0.099727785259351| Validation loss: 0.37785612329378876\n",
      "Epoch: 30| Training loss: 0.09716844503689794| Validation loss: 0.37694384344361553\n",
      "Epoch: 31| Training loss: 0.09473719860890333| Validation loss: 0.3762033194781205\n",
      "Epoch: 32| Training loss: 0.09242347969303794| Validation loss: 0.37548135057279886\n",
      "Epoch: 33| Training loss: 0.09023099854406523| Validation loss: 0.3747997255227128\n",
      "Epoch: 34| Training loss: 0.0881229989411669| Validation loss: 0.3742078545160182\n",
      "Epoch: 35| Training loss: 0.0861098129856284| Validation loss: 0.37364058446016074\n",
      "Epoch: 36| Training loss: 0.0841940381525263| Validation loss: 0.37316551400569287\n",
      "Epoch: 37| Training loss: 0.08235744038774345| Validation loss: 0.3726414661412613\n",
      "Epoch: 38| Training loss: 0.08059757495910976| Validation loss: 0.3722320711680036\n",
      "Epoch: 39| Training loss: 0.07891267070095855| Validation loss: 0.37179302869388925\n",
      "Epoch: 40| Training loss: 0.07729550479488817| Validation loss: 0.37144262996279503\n",
      "Epoch: 41| Training loss: 0.07575086246988103| Validation loss: 0.3711430874657316\n",
      "Epoch: 42| Training loss: 0.07424857237790572| Validation loss: 0.37078607134354497\n",
      "Epoch: 43| Training loss: 0.07281203351698118| Validation loss: 0.3705193920083281\n",
      "Epoch: 44| Training loss: 0.07142968333224511| Validation loss: 0.3702409403746181\n",
      "Epoch: 45| Training loss: 0.07009850707192611| Validation loss: 0.3700072429554265\n",
      "Epoch: 46| Training loss: 0.06881570701457083| Validation loss: 0.3697809737353014\n",
      "Epoch: 47| Training loss: 0.06757938466978433| Validation loss: 0.3695865090916561\n",
      "Epoch: 48| Training loss: 0.06638641772553187| Validation loss: 0.3694225750567485\n",
      "Epoch: 49| Training loss: 0.06523481029379928| Validation loss: 0.3692525930577051\n",
      "Epoch: 50| Training loss: 0.06411442850200776| Validation loss: 0.36910746786864074\n",
      "Epoch: 51| Training loss: 0.06303823094413086| Validation loss: 0.36899100090482084\n",
      "Epoch: 52| Training loss: 0.06199414306654523| Validation loss: 0.3688884730224167\n",
      "Epoch: 53| Training loss: 0.060984207648409665| Validation loss: 0.36879420088480147\n"
     ]
    }
   ],
   "source": [
    "w_tfidf, trl, devl = SGD(tfidf_train, data_train_label, \n",
    "                         X_dev=tfidf_dev, \n",
    "                         Y_dev=data_dev_label, \n",
    "                         lr=0.0005, \n",
    "                         alpha=0.00001, \n",
    "                         epochs=100)"
   ]
  },
  {
   "cell_type": "markdown",
   "metadata": {},
   "source": [
    "Now plot the training and validation history per epoch. Does your model underfit, overfit or is it about right? Explain why."
   ]
  },
  {
   "cell_type": "code",
   "execution_count": 61,
   "metadata": {
    "ExecuteTime": {
     "end_time": "2020-02-15T14:17:54.517668Z",
     "start_time": "2020-02-15T14:17:54.417118Z"
    }
   },
   "outputs": [
    {
     "data": {
      "image/png": "[encoded data removed]",
      "text/plain": [
       "<Figure size 432x288 with 1 Axes>"
      ]
     },
     "metadata": {
      "needs_background": "light"
     },
     "output_type": "display_data"
    }
   ],
   "source": [
    "# fill in your code...\n",
    "plt.title('TF.IDF Training Progress')\n",
    "sub_axix = np.arange(len(devl))\n",
    "plt.plot(sub_axix, trl, color='red', label='training loss')\n",
    "plt.plot(sub_axix, devl, color='blue', label='validation loss')\n",
    "plt.legend()\n",
    "plt.xlabel('epochs')\n",
    "plt.ylabel('loss')\n",
    "plt.show()"
   ]
  },
  {
   "cell_type": "markdown",
   "metadata": {},
   "source": [
    "Comment:\n",
    "\n",
    "It is about right. Both of them decrese significantly at beginning and become flat at the same time."
   ]
  },
  {
   "cell_type": "markdown",
   "metadata": {},
   "source": [
    "Compute accuracy, precision, recall and F1-scores:"
   ]
  },
  {
   "cell_type": "code",
   "execution_count": 62,
   "metadata": {
    "ExecuteTime": {
     "end_time": "2020-02-15T14:37:56.489814Z",
     "start_time": "2020-02-15T14:37:56.487014Z"
    }
   },
   "outputs": [
    {
     "name": "stdout",
     "output_type": "stream",
     "text": [
      "Accuracy: 0.8625\n",
      "Precision: 0.8502415458937198\n",
      "Recall: 0.88\n",
      "F1-Score: 0.8648648648648648\n"
     ]
    }
   ],
   "source": [
    "# fill in your code...\n",
    "preds_test_tfidf = predict_class(tfidf_test, w_tfidf)\n",
    "print('Accuracy:', accuracy_score(data_test_label,preds_test_tfidf))\n",
    "print('Precision:', precision_score(data_test_label,preds_test_tfidf))\n",
    "print('Recall:', recall_score(data_test_label,preds_test_tfidf))\n",
    "print('F1-Score:', f1_score(data_test_label,preds_test_tfidf))"
   ]
  },
  {
   "cell_type": "markdown",
   "metadata": {},
   "source": [
    "Print top-10 most positive and negative words:"
   ]
  },
  {
   "cell_type": "code",
   "execution_count": 63,
   "metadata": {
    "ExecuteTime": {
     "end_time": "2020-02-15T14:38:17.845485Z",
     "start_time": "2020-02-15T14:38:17.842557Z"
    }
   },
   "outputs": [
    {
     "name": "stdout",
     "output_type": "stream",
     "text": [
      "['bad', 'worst', 'boring', 'supposed', 'unfortunately', 'waste', 'awful', 'poor', 'script', 'nothing']\n"
     ]
    }
   ],
   "source": [
    "# fill in your code...\n",
    "negative_top_10 = []\n",
    "top_k=-10\n",
    "top_k_idx=w_tfidf.argsort()[::1][0:-top_k]\n",
    "for i in range(-top_k):\n",
    "    negative_top_10 += id_to_word[top_k_idx.tolist()[i]]\n",
    "print(negative_top_10)"
   ]
  },
  {
   "cell_type": "code",
   "execution_count": 64,
   "metadata": {
    "ExecuteTime": {
     "end_time": "2020-02-15T14:38:22.781128Z",
     "start_time": "2020-02-15T14:38:22.778590Z"
    }
   },
   "outputs": [
    {
     "name": "stdout",
     "output_type": "stream",
     "text": [
      "['great', 'hilarious', 'fun', 'terrific', 'overall', 'perfectly', 'definitely', 'memorable', 'life', 'simple']\n"
     ]
    }
   ],
   "source": [
    "# fill in your code...\n",
    "positive_top_10 = []\n",
    "top_k=10\n",
    "top_k_idx=w_tfidf.argsort()[::-1][0:top_k]\n",
    "for i in range(top_k):\n",
    "    positive_top_10 += id_to_word[top_k_idx.tolist()[i]]\n",
    "print(positive_top_10)"
   ]
  },
  {
   "cell_type": "markdown",
   "metadata": {},
   "source": [
    "Comment:\n",
    "\n",
    "Top 10 words got now are more likely to make sense than above. There are more adjective like 'bad', 'worst', 'boring', 'great' showing sentiment"
   ]
  },
  {
   "cell_type": "markdown",
   "metadata": {},
   "source": [
    "### Discuss how did you choose model hyperparameters (e.g. learning rate and regularisation strength)? What is the relation between training epochs and learning rate? How the regularisation strength affects performance?"
   ]
  },
  {
   "cell_type": "markdown",
   "metadata": {},
   "source": [
    "Enter your answer here...\n",
    "\n",
    "Try learning rate at 0.1 at first, then 0.01 and 0.001.   If 0.001 is too large and 0.0001 too small, I'll try value from 0.0002 to 0.0009 one by one. Finally 0.0005 is appropriate for my model.\n",
    "Same as learning rate, regularisation strength is devided by 10 each time then find the value just right.\n",
    "\n",
    "If the learning rate is too low, the model is prone to overfitting and would takes more epochs to converge(low learning rate needs more epochs). If the learning rate is too large, the loss value is easily oscillating.\n",
    "\n",
    "The alpha hyperparameter has a value between 0.0 and 1.0. This hyperparameter controls the amount of bias in the model from low bias (high variance) to high bias (low variance).\n",
    "If the regularisation strength is too strong, the model will underestimate the weights and underfit the problem. If the regularisation strength is too weak, the model will be allowed to overfit the training data."
   ]
  },
  {
   "cell_type": "markdown",
   "metadata": {},
   "source": [
    "\n",
    "\n",
    "## Full Results\n",
    "\n",
    "Add here your results:\n",
    "\n",
    "| LR | Precision  | Recall  | F1-Score  |\n",
    "|:-:|:-:|:-:|:-:|\n",
    "| BOW-count  | 0.82  | 0.85  | 0.84  |\n",
    "| BOW-tfidf  | 0.85  | 0.88  | 0.86  |\n"
   ]
  },
  {
   "cell_type": "markdown",
   "metadata": {},
   "source": [
    "# Multi-class Logistic Regression \n",
    "\n",
    "Now you need to train a Multiclass Logistic Regression (MLR) Classifier by extending the Binary model you developed above. You will use the MLR model to perform topic classification on the AG news dataset consisting of three classes:"
   ]
  },
  {
   "cell_type": "markdown",
   "metadata": {},
   "source": [
    "- Class 1: World\n",
    "- Class 2: Sports\n",
    "- Class 3: Business"
   ]
  },
  {
   "cell_type": "markdown",
   "metadata": {},
   "source": [
    "You need to follow the same process as in Task 1 for data processing and feature extraction by reusing the functions you wrote."
   ]
  },
  {
   "cell_type": "code",
   "execution_count": 65,
   "metadata": {
    "ExecuteTime": {
     "end_time": "2020-02-15T14:18:03.212229Z",
     "start_time": "2020-02-15T14:18:03.185261Z"
    }
   },
   "outputs": [],
   "source": [
    "# fill in your code...\n",
    "data_dev = pd.read_csv('./data_topic/dev.csv', names = ['text','label'])\n",
    "data_test = pd.read_csv('./data_topic/test.csv', names = ['text','label'])\n",
    "data_train = pd.read_csv('./data_topic/train.csv', names = ['text','label'])"
   ]
  },
  {
   "cell_type": "code",
   "execution_count": 66,
   "metadata": {
    "ExecuteTime": {
     "end_time": "2020-02-15T14:18:03.515585Z",
     "start_time": "2020-02-15T14:18:03.508299Z"
    }
   },
   "outputs": [
    {
     "data": {
      "text/html": [
       "<div>\n",
       "<style scoped>\n",
       "    .dataframe tbody tr th:only-of-type {\n",
       "        vertical-align: middle;\n",
       "    }\n",
       "\n",
       "    .dataframe tbody tr th {\n",
       "        vertical-align: top;\n",
       "    }\n",
       "\n",
       "    .dataframe thead th {\n",
       "        text-align: right;\n",
       "    }\n",
       "</style>\n",
       "<table border=\"1\" class=\"dataframe\">\n",
       "  <thead>\n",
       "    <tr style=\"text-align: right;\">\n",
       "      <th></th>\n",
       "      <th>text</th>\n",
       "      <th>label</th>\n",
       "    </tr>\n",
       "  </thead>\n",
       "  <tbody>\n",
       "    <tr>\n",
       "      <td>0</td>\n",
       "      <td>1</td>\n",
       "      <td>Reuters - Venezuelans turned out early\\and in ...</td>\n",
       "    </tr>\n",
       "    <tr>\n",
       "      <td>1</td>\n",
       "      <td>1</td>\n",
       "      <td>Reuters - South Korean police used water canno...</td>\n",
       "    </tr>\n",
       "    <tr>\n",
       "      <td>2</td>\n",
       "      <td>1</td>\n",
       "      <td>Reuters - Thousands of Palestinian\\prisoners i...</td>\n",
       "    </tr>\n",
       "    <tr>\n",
       "      <td>3</td>\n",
       "      <td>1</td>\n",
       "      <td>AFP - Sporadic gunfire and shelling took place...</td>\n",
       "    </tr>\n",
       "    <tr>\n",
       "      <td>4</td>\n",
       "      <td>1</td>\n",
       "      <td>AP - Dozens of Rwandan soldiers flew into Suda...</td>\n",
       "    </tr>\n",
       "  </tbody>\n",
       "</table>\n",
       "</div>"
      ],
      "text/plain": [
       "   text                                              label\n",
       "0     1  Reuters - Venezuelans turned out early\\and in ...\n",
       "1     1  Reuters - South Korean police used water canno...\n",
       "2     1  Reuters - Thousands of Palestinian\\prisoners i...\n",
       "3     1  AFP - Sporadic gunfire and shelling took place...\n",
       "4     1  AP - Dozens of Rwandan soldiers flew into Suda..."
      ]
     },
     "execution_count": 66,
     "metadata": {},
     "output_type": "execute_result"
    }
   ],
   "source": [
    "data_train.head()"
   ]
  },
  {
   "cell_type": "code",
   "execution_count": 67,
   "metadata": {
    "ExecuteTime": {
     "end_time": "2020-02-15T14:18:03.806523Z",
     "start_time": "2020-02-15T14:18:03.798279Z"
    }
   },
   "outputs": [],
   "source": [
    "# fill in your code...\n",
    "data_dev_text = list(data_dev['label'])                  #text to store raw text in python lists \n",
    "data_dev_text = [item.lower() for item in data_dev_text] #lower words\n",
    "data_dev_label = data_dev['text'].values                 #label to store corresponding labels in numpy arrays\n",
    "\n",
    "data_test_text = list(data_test['label'])   \n",
    "data_test_text = [item.lower() for item in data_test_text]\n",
    "data_test_label = data_test['text'].values \n",
    "\n",
    "data_train_text = list(data_train['label'])   \n",
    "data_train_text = [item.lower() for item in data_train_text]\n",
    "data_train_label = data_train['text'].values "
   ]
  },
  {
   "cell_type": "code",
   "execution_count": 68,
   "metadata": {
    "ExecuteTime": {
     "end_time": "2020-02-15T14:18:04.508938Z",
     "start_time": "2020-02-15T14:18:04.171071Z"
    }
   },
   "outputs": [
    {
     "name": "stdout",
     "output_type": "stream",
     "text": [
      "5000\n",
      "\n",
      "['reuters', 'said', 'tuesday', 'wednesday', 'new', 'after', 'ap', 'athens', 'monday', 'first', 'two', 'york', 'over', ('new', 'york'), 'us', 'olympic', 'but', 'their', 'will', 'inc', 'more', 'year', 'oil', 'prices', 'company', 'world', 'than', 'aug', 'about', 'had', 'united', 'one', 'out', 'sunday', 'into', 'against', 'up', 'second', 'last', 'president', 'stocks', 'gold', 'team', ('new', 'york', 'reuters'), ('york', 'reuters'), 'when', 'three', 'night', 'time', 'no', 'yesterday', 'games', 'olympics', 'not', 'states', 'greece', 'off', 'iraq', 'washington', 'percent', ('united', 'states'), ('oil', 'prices'), 'home', 'day', 'google', 'public', ('athens', 'reuters'), 'record', 'week', 'men', 'government', 'win', ('said', 'tuesday'), 'american', 'won', 'years', 'all', 'billion', 'shares', 'city', 'offering', 'officials', 'would', 'today', 'final', 'afp', 'gt', 'people', 'lt', 'medal', 'corp', 'sales', 'country', 'back', 'four', 'high', 'investor', 'com', 'minister', 'reported']\n",
      "\n",
      "[('reuters', 631), ('said', 432), ('tuesday', 413), ('wednesday', 344), ('new', 325), ('after', 295), ('ap', 275), ('athens', 245), ('monday', 221), ('first', 210)]\n"
     ]
    }
   ],
   "source": [
    "vocab, df, ngram_counts = get_vocab(data_train_text, ngram_range=(1,3),token_pattern=r'\\b[A-Za-z][A-Za-z]+\\b', keep_topN=5000, stop_words=stop_words)\n",
    "print(len(vocab))\n",
    "print()\n",
    "print(list(vocab)[:100])\n",
    "print()\n",
    "print(df.most_common()[:10])"
   ]
  },
  {
   "cell_type": "code",
   "execution_count": 69,
   "metadata": {
    "ExecuteTime": {
     "end_time": "2020-02-15T14:18:04.706802Z",
     "start_time": "2020-02-15T14:18:04.511061Z"
    }
   },
   "outputs": [],
   "source": [
    "# fill in your code...\n",
    "word_to_id = {}\n",
    "id_to_word = {}\n",
    "for i in range(len(list(vocab))):\n",
    "    word_to_id[vocab[i]] = i    #word as key\n",
    "    id_to_word[i] = [vocab[i]]  #id as key\n",
    "train_ngram = []\n",
    "for i in range(len(data_train_text)):\n",
    "    train_ngram.append(extract_ngrams(data_train_text[i], (1,3), r'\\b[A-Za-z][A-Za-z]+\\b', stop_words,vocab))\n",
    "test_ngram = []\n",
    "for i in range(len(data_test_text)):\n",
    "    test_ngram.append(extract_ngrams(data_test_text[i], (1,3), r'\\b[A-Za-z][A-Za-z]+\\b', stop_words,vocab))\n",
    "dev_ngram = []\n",
    "for i in range(len(data_dev_text)):\n",
    "    dev_ngram.append(extract_ngrams(data_dev_text[i], (1,3), r'\\b[A-Za-z][A-Za-z]+\\b', stop_words,vocab))\n",
    "train_vec = vectorise(train_ngram,vocab)\n",
    "test_vec = vectorise(test_ngram,vocab)\n",
    "dev_vec = vectorise(dev_ngram,vocab)"
   ]
  },
  {
   "cell_type": "code",
   "execution_count": 70,
   "metadata": {},
   "outputs": [
    {
     "data": {
      "text/plain": [
       "(2400, 5000)"
      ]
     },
     "execution_count": 70,
     "metadata": {},
     "output_type": "execute_result"
    }
   ],
   "source": [
    "train_vec.shape"
   ]
  },
  {
   "cell_type": "code",
   "execution_count": 71,
   "metadata": {},
   "outputs": [
    {
     "data": {
      "text/plain": [
       "array([[1., 0., 0., 0., 1., 0., 0., 0., 0., 0., 1., 0., 0., 0., 0., 0.,\n",
       "        0., 0., 1., 0., 0., 0., 0., 0., 0., 0., 0., 0., 0., 0., 0., 0.,\n",
       "        1., 1., 0., 0., 0., 0., 0., 1., 0., 0., 0., 0., 0., 0., 0., 0.,\n",
       "        0., 0.],\n",
       "       [1., 0., 0., 0., 0., 0., 0., 0., 0., 0., 0., 0., 0., 0., 0., 0.,\n",
       "        0., 0., 0., 0., 1., 0., 0., 0., 0., 0., 0., 0., 0., 0., 0., 0.,\n",
       "        0., 1., 0., 0., 0., 0., 0., 0., 0., 0., 0., 0., 0., 0., 0., 0.,\n",
       "        0., 0.]])"
      ]
     },
     "execution_count": 71,
     "metadata": {},
     "output_type": "execute_result"
    }
   ],
   "source": [
    "train_vec[:2,:50]"
   ]
  },
  {
   "cell_type": "code",
   "execution_count": 72,
   "metadata": {},
   "outputs": [],
   "source": [
    "import math\n",
    "N = len(train_ngram)\n",
    "idf = []\n",
    "[rows, cols] = train_vec.shape\n",
    "#each element go through col\n",
    "for j in range(cols):\n",
    "    n = 0\n",
    "    for i in range(rows):\n",
    "        if train_vec[i,j] > 0:\n",
    "            n += 1\n",
    "    idf.append(math.log10(N/n))\n",
    "idfs = np.array(idf)\n",
    "tfidf_train = train_vec * idfs\n",
    "tfidf_dev = dev_vec * idfs\n",
    "tfidf_test = test_vec * idfs"
   ]
  },
  {
   "cell_type": "markdown",
   "metadata": {},
   "source": [
    "Now you need to change `SGD` to support multiclass datasets. First you need to develop a `softmax` function. It takes as input:\n",
    "\n",
    "- `z`: array of real numbers \n",
    "\n",
    "and returns:\n",
    "\n",
    "- `smax`: the softmax of `z`"
   ]
  },
  {
   "cell_type": "code",
   "execution_count": 73,
   "metadata": {
    "ExecuteTime": {
     "end_time": "2020-02-15T14:18:07.440998Z",
     "start_time": "2020-02-15T14:18:07.437915Z"
    }
   },
   "outputs": [],
   "source": [
    "def softmax(z):\n",
    "    \n",
    "    # fill in your code...\n",
    "    sum = np.sum(np.exp(z),axis = 1)                #sum each row\n",
    "    shape = sum.shape[0]\n",
    "    smax = np.exp(z) / sum.reshape((shape,1))       #reshape(N,) to (N,1)  ,  N rows\n",
    "    \n",
    "    return smax"
   ]
  },
  {
   "cell_type": "markdown",
   "metadata": {},
   "source": [
    "Then modify `predict_proba` and `predict_class` functions for the multiclass case:"
   ]
  },
  {
   "cell_type": "code",
   "execution_count": 74,
   "metadata": {
    "ExecuteTime": {
     "end_time": "2020-02-15T14:18:07.445451Z",
     "start_time": "2020-02-15T14:18:07.442851Z"
    }
   },
   "outputs": [],
   "source": [
    "def predict_proba(X, weights):\n",
    "    \n",
    "    # fill in your code...\n",
    "    preds_proba = softmax(np.dot(X , weights))\n",
    "    \n",
    "    return preds_proba"
   ]
  },
  {
   "cell_type": "code",
   "execution_count": 75,
   "metadata": {
    "ExecuteTime": {
     "end_time": "2020-02-15T14:18:07.449814Z",
     "start_time": "2020-02-15T14:18:07.447145Z"
    }
   },
   "outputs": [],
   "source": [
    "def predict_class(X, weights):\n",
    "    \n",
    "    # fill in your code...\n",
    "    preds_class = np.argmax(predict_proba(X, weights),axis = 1) + 1 #b = 1 , axis=1 means argmax in row(N)\n",
    "    \n",
    "    return preds_class"
   ]
  },
  {
   "cell_type": "markdown",
   "metadata": {},
   "source": [
    "Toy example and expected functionality of the functions above:"
   ]
  },
  {
   "cell_type": "code",
   "execution_count": 76,
   "metadata": {
    "ExecuteTime": {
     "end_time": "2020-02-15T14:18:08.059902Z",
     "start_time": "2020-02-15T14:18:08.056774Z"
    }
   },
   "outputs": [],
   "source": [
    "X = np.array([[0.1,0.2],[0.2,0.1],[0.1,-0.2]])\n",
    "w = np.array([[2,-5],[-5,2]])"
   ]
  },
  {
   "cell_type": "code",
   "execution_count": 77,
   "metadata": {
    "ExecuteTime": {
     "end_time": "2020-02-15T14:18:08.495464Z",
     "start_time": "2020-02-15T14:18:08.491074Z"
    }
   },
   "outputs": [
    {
     "data": {
      "text/plain": [
       "array([[0.33181223, 0.66818777],\n",
       "       [0.66818777, 0.33181223],\n",
       "       [0.89090318, 0.10909682]])"
      ]
     },
     "execution_count": 77,
     "metadata": {},
     "output_type": "execute_result"
    }
   ],
   "source": [
    "predict_proba(X, w)"
   ]
  },
  {
   "cell_type": "code",
   "execution_count": 78,
   "metadata": {
    "ExecuteTime": {
     "end_time": "2020-02-15T14:18:08.714215Z",
     "start_time": "2020-02-15T14:18:08.710098Z"
    }
   },
   "outputs": [
    {
     "data": {
      "text/plain": [
       "array([2, 1, 1])"
      ]
     },
     "execution_count": 78,
     "metadata": {},
     "output_type": "execute_result"
    }
   ],
   "source": [
    "predict_class(X, w)"
   ]
  },
  {
   "cell_type": "markdown",
   "metadata": {},
   "source": [
    "Now you need to compute the categorical cross entropy loss (extending the binary loss to support multiple classes)."
   ]
  },
  {
   "cell_type": "code",
   "execution_count": 79,
   "metadata": {
    "ExecuteTime": {
     "end_time": "2020-02-15T14:30:48.047338Z",
     "start_time": "2020-02-15T14:30:48.044395Z"
    }
   },
   "outputs": [],
   "source": [
    "def categorical_loss(X, Y, weights, num_classes=5, alpha=0.00001):\n",
    "    # X (2400,5000)   weights (5000,3)\n",
    "    predictions = predict_proba(X, weights)  \n",
    "    loss = 0\n",
    "    for i in range(X.shape[0]):\n",
    "    # prediction(2400,3)\n",
    "        c=Y[i]-1\n",
    "    # c means the position representing pridicted class\n",
    "        loss += -np.log(predictions[i][c])    # -log(yc)  yc means pridicted class c\n",
    "    l = (loss + alpha * np.sum(weights**2))/len(Y) # l2 regulization\n",
    "    \n",
    "    return l\n",
    "    "
   ]
  },
  {
   "cell_type": "markdown",
   "metadata": {
    "ExecuteTime": {
     "end_time": "2020-02-15T14:08:59.937442Z",
     "start_time": "2020-02-15T14:08:59.932221Z"
    }
   },
   "source": [
    "Finally you need to modify SGD to support the categorical cross entropy loss:"
   ]
  },
  {
   "cell_type": "code",
   "execution_count": 80,
   "metadata": {
    "ExecuteTime": {
     "end_time": "2020-02-15T14:18:10.176885Z",
     "start_time": "2020-02-15T14:18:10.165021Z"
    }
   },
   "outputs": [],
   "source": [
    "def SGD(X_tr, Y_tr, X_dev=[], Y_dev=[], loss=\"categorical\",  num_classes=5, lr=0.01, alpha=0.00001, epochs=5, tolerance=0.001, print_progress=True):\n",
    "\n",
    "    cur_loss_tr = 1.\n",
    "    cur_loss_dev = 1.\n",
    "    training_loss_history = []\n",
    "    validation_loss_history = []\n",
    "    #generate an one-hot matrix using for representing label\n",
    "    #[1,0,0] = class1, [0,1,0] = class2 , [0,0,1] = class3\n",
    "    one_hot_vector = np.eye(num_classes)\n",
    "    # initialize w with zeros (5000,3)\n",
    "    list_weights = []\n",
    "    for j in range(len(list(vocab))):\n",
    "        list_weights.append([0.,0.,0.])\n",
    "    weights = np.array(list_weights)\n",
    "    #split whole trainging vectors into 10 batch\n",
    "    iteration = 10\n",
    "    batch_size = int(len(X_tr)/iteration)\n",
    "    #epochs\n",
    "    for i in range(epochs):\n",
    "        #Randomise the data order after each epoch\n",
    "        idx = np.arange(len(X_tr))\n",
    "        np.random.shuffle(idx)\n",
    "        #iteration\n",
    "        for j in range(iteration):\n",
    "            temp_idx = idx[j*batch_size:(j+1)*batch_size]\n",
    "            temp_label = Y_tr[temp_idx]-1  #Y range(1,3) and we need(0,2)\n",
    "            temp_data = X_tr[temp_idx]\n",
    "            #update weights\n",
    "            predictions = predict_proba(temp_data, weights)\n",
    "            gradient = np.dot(temp_data.T , predictions - one_hot_vector[temp_label]) +  2*alpha * weights #L2 regularisation\n",
    "            weights = weights - lr * gradient\n",
    "        # count loss and document\n",
    "        cur_loss_tr = categorical_loss(X_tr,Y_tr, weights,alpha)\n",
    "        cur_loss_dev = categorical_loss(X_dev,Y_dev, weights,alpha)\n",
    "        training_loss_history.append(cur_loss_tr)\n",
    "        validation_loss_history.append(cur_loss_dev)\n",
    "        \n",
    "        # After each epoch print loss\n",
    "        print(\"Epoch: \" + str(i) + \"| Training loss: \" + str(cur_loss_tr) + \"| Validation loss: \" + str(cur_loss_dev))\n",
    "\n",
    "        #Stop training if the difference between the current and previous validation loss is smaller than the tolerance\n",
    "        if i>=1 and validation_loss_history[i-1]-validation_loss_history[i] < tolerance:\n",
    "            break\n",
    "        \n",
    "    return weights, training_loss_history, validation_loss_history"
   ]
  },
  {
   "cell_type": "markdown",
   "metadata": {
    "ExecuteTime": {
     "end_time": "2020-02-15T14:10:15.772383Z",
     "start_time": "2020-02-15T14:10:15.767855Z"
    }
   },
   "source": [
    "Now you are ready to train and evaluate you MLR following the same steps as in Task 1 for both Count and tfidf features:"
   ]
  },
  {
   "cell_type": "code",
   "execution_count": 81,
   "metadata": {
    "ExecuteTime": {
     "end_time": "2020-02-15T14:18:55.324956Z",
     "start_time": "2020-02-15T14:18:11.720952Z"
    }
   },
   "outputs": [
    {
     "name": "stdout",
     "output_type": "stream",
     "text": [
      "Epoch: 0| Training loss: 0.892420619306114| Validation loss: 0.9768123961634704\n",
      "Epoch: 1| Training loss: 0.7803428922945191| Validation loss: 0.894276461860083\n",
      "Epoch: 2| Training loss: 0.7045550236434718| Validation loss: 0.8323634519493182\n",
      "Epoch: 3| Training loss: 0.6486204663099343| Validation loss: 0.7836689922284901\n",
      "Epoch: 4| Training loss: 0.6052499591458045| Validation loss: 0.7443984334709948\n",
      "Epoch: 5| Training loss: 0.5701455463331097| Validation loss: 0.7117819105897565\n",
      "Epoch: 6| Training loss: 0.5409582930466833| Validation loss: 0.6843487940438348\n",
      "Epoch: 7| Training loss: 0.5160939791159187| Validation loss: 0.6607226238220931\n",
      "Epoch: 8| Training loss: 0.49454496942521314| Validation loss: 0.6401522062510623\n",
      "Epoch: 9| Training loss: 0.4756241027347846| Validation loss: 0.6220457299487958\n",
      "Epoch: 10| Training loss: 0.458801354116214| Validation loss: 0.6059667270558552\n",
      "Epoch: 11| Training loss: 0.4437066001361107| Validation loss: 0.5916032507391868\n",
      "Epoch: 12| Training loss: 0.4300395701560195| Validation loss: 0.5786306113133137\n",
      "Epoch: 13| Training loss: 0.4175734382097908| Validation loss: 0.5667664559184797\n",
      "Epoch: 14| Training loss: 0.40614635755542017| Validation loss: 0.5559610078704648\n",
      "Epoch: 15| Training loss: 0.39560656800386523| Validation loss: 0.5460226754158212\n",
      "Epoch: 16| Training loss: 0.38584406109385977| Validation loss: 0.5368675915956493\n",
      "Epoch: 17| Training loss: 0.3767607089826424| Validation loss: 0.5283742868192913\n",
      "Epoch: 18| Training loss: 0.3682813163854571| Validation loss: 0.5205021853620293\n",
      "Epoch: 19| Training loss: 0.36034061082340724| Validation loss: 0.5131659115349935\n",
      "Epoch: 20| Training loss: 0.35287568392539526| Validation loss: 0.50632085671347\n",
      "Epoch: 21| Training loss: 0.3458403775235712| Validation loss: 0.4999045585027293\n",
      "Epoch: 22| Training loss: 0.3391943513109492| Validation loss: 0.49388009303156755\n",
      "Epoch: 23| Training loss: 0.3329013049954915| Validation loss: 0.4881815535889397\n",
      "Epoch: 24| Training loss: 0.3269310179290171| Validation loss: 0.48275688949549106\n",
      "Epoch: 25| Training loss: 0.32125413426028093| Validation loss: 0.4776771766348985\n",
      "Epoch: 26| Training loss: 0.3158482835056454| Validation loss: 0.47286016676908277\n",
      "Epoch: 27| Training loss: 0.3106912431360714| Validation loss: 0.4682712854243674\n",
      "Epoch: 28| Training loss: 0.30576418767443136| Validation loss: 0.46388608868925785\n",
      "Epoch: 29| Training loss: 0.30104895597944237| Validation loss: 0.45974873518189774\n",
      "Epoch: 30| Training loss: 0.29652965843864926| Validation loss: 0.45572849315507397\n",
      "Epoch: 31| Training loss: 0.2921933621758511| Validation loss: 0.45196950891579263\n",
      "Epoch: 32| Training loss: 0.28802836738776655| Validation loss: 0.44838762719346664\n",
      "Epoch: 33| Training loss: 0.28402233723284276| Validation loss: 0.44491146285626987\n",
      "Epoch: 34| Training loss: 0.28016523737754984| Validation loss: 0.44157545257676656\n",
      "Epoch: 35| Training loss: 0.2764463865819646| Validation loss: 0.43838461178124466\n",
      "Epoch: 36| Training loss: 0.2728589913130151| Validation loss: 0.4352924194814715\n",
      "Epoch: 37| Training loss: 0.269394891508187| Validation loss: 0.4323321550143719\n",
      "Epoch: 38| Training loss: 0.2660475196112379| Validation loss: 0.4294707333480831\n",
      "Epoch: 39| Training loss: 0.26280916659027376| Validation loss: 0.42677393605015235\n",
      "Epoch: 40| Training loss: 0.2596735576672451| Validation loss: 0.4241246645831202\n",
      "Epoch: 41| Training loss: 0.25663607860217325| Validation loss: 0.42160296338052866\n",
      "Epoch: 42| Training loss: 0.2536909955926685| Validation loss: 0.41918929072289496\n",
      "Epoch: 43| Training loss: 0.25083388437174403| Validation loss: 0.41682884686900745\n",
      "Epoch: 44| Training loss: 0.24805986084606724| Validation loss: 0.41454330599693373\n",
      "Epoch: 45| Training loss: 0.24536458688165208| Validation loss: 0.41228914534503536\n",
      "Epoch: 46| Training loss: 0.2427446991416395| Validation loss: 0.4101476864209226\n",
      "Epoch: 47| Training loss: 0.24019604735810748| Validation loss: 0.408060479298999\n",
      "Epoch: 48| Training loss: 0.2377163853359957| Validation loss: 0.40599891889063683\n",
      "Epoch: 49| Training loss: 0.2353018616948719| Validation loss: 0.404032296910056\n",
      "Epoch: 50| Training loss: 0.23294955612585544| Validation loss: 0.4021410122949143\n",
      "Epoch: 51| Training loss: 0.23065702167850405| Validation loss: 0.40028300428473873\n",
      "Epoch: 52| Training loss: 0.22842117147404206| Validation loss: 0.39847823384685627\n",
      "Epoch: 53| Training loss: 0.22624014885034768| Validation loss: 0.39671182630118773\n",
      "Epoch: 54| Training loss: 0.22411160993677476| Validation loss: 0.3950129630670985\n",
      "Epoch: 55| Training loss: 0.22203277760021042| Validation loss: 0.393369154905265\n",
      "Epoch: 56| Training loss: 0.22000260903304725| Validation loss: 0.39174441466703946\n",
      "Epoch: 57| Training loss: 0.2180183911021554| Validation loss: 0.3901650092575212\n",
      "Epoch: 58| Training loss: 0.21607869908519414| Validation loss: 0.38864533686207386\n",
      "Epoch: 59| Training loss: 0.21418207952258267| Validation loss: 0.38716769136941276\n",
      "Epoch: 60| Training loss: 0.2123266575771469| Validation loss: 0.38572917238774646\n",
      "Epoch: 61| Training loss: 0.2105107649181403| Validation loss: 0.3843239689625977\n",
      "Epoch: 62| Training loss: 0.2087331758976508| Validation loss: 0.3829718279733339\n",
      "Epoch: 63| Training loss: 0.20699236153882283| Validation loss: 0.38163165578554736\n",
      "Epoch: 64| Training loss: 0.20528721687658813| Validation loss: 0.3803305142453331\n",
      "Epoch: 65| Training loss: 0.2036162555758413| Validation loss: 0.37904311720618256\n",
      "Epoch: 66| Training loss: 0.20197844858490743| Validation loss: 0.3777828145581213\n",
      "Epoch: 67| Training loss: 0.20037293066719272| Validation loss: 0.3765723577634133\n",
      "Epoch: 68| Training loss: 0.19879819690096853| Validation loss: 0.3753617555784711\n",
      "Epoch: 69| Training loss: 0.1972533603231579| Validation loss: 0.3742165810744165\n",
      "Epoch: 70| Training loss: 0.19573775385025322| Validation loss: 0.37305112700439846\n",
      "Epoch: 71| Training loss: 0.19425030004311764| Validation loss: 0.3719176427230845\n",
      "Epoch: 72| Training loss: 0.19279007475745943| Validation loss: 0.3707977972722476\n",
      "Epoch: 73| Training loss: 0.1913562095542585| Validation loss: 0.36971383534129804\n",
      "Epoch: 74| Training loss: 0.18994794531198142| Validation loss: 0.3686499937446049\n",
      "Epoch: 75| Training loss: 0.1885645848975914| Validation loss: 0.36762006268845265\n",
      "Epoch: 76| Training loss: 0.18720523379692086| Validation loss: 0.36662811207147306\n"
     ]
    }
   ],
   "source": [
    "w_count, loss_tr_count, dev_loss_count = SGD(train_vec, data_train_label, \n",
    "                                             X_dev=dev_vec, \n",
    "                                             Y_dev=data_dev_label, \n",
    "                                             num_classes = 3,\n",
    "                                             lr=0.001, \n",
    "                                             alpha=0.001, \n",
    "                                             epochs=200)"
   ]
  },
  {
   "cell_type": "markdown",
   "metadata": {},
   "source": [
    "Plot training and validation process and explain if your model overfit, underfit or is about right:"
   ]
  },
  {
   "cell_type": "code",
   "execution_count": 82,
   "metadata": {
    "ExecuteTime": {
     "end_time": "2020-02-15T14:31:09.903453Z",
     "start_time": "2020-02-15T14:31:09.901360Z"
    }
   },
   "outputs": [
    {
     "data": {
      "image/png": "[encoded data removed]",
      "text/plain": [
       "<Figure size 432x288 with 1 Axes>"
      ]
     },
     "metadata": {
      "needs_background": "light"
     },
     "output_type": "display_data"
    }
   ],
   "source": [
    "# fill in your code...\n",
    "plt.title('Training Progress')\n",
    "sub_axix = np.arange(len(dev_loss_count))\n",
    "plt.plot(sub_axix, loss_tr_count, color='red', label='training loss')\n",
    "plt.plot(sub_axix, dev_loss_count, color='blue', label='validation loss')\n",
    "plt.legend()\n",
    "plt.xlabel('epochs')\n",
    "plt.ylabel('loss')\n",
    "plt.show()"
   ]
  },
  {
   "cell_type": "markdown",
   "metadata": {},
   "source": [
    "Comment:\n",
    "\n",
    "It is about right. Because both training data and validation data are constantly decreasing, the validation loss curve is always above the training loss curve."
   ]
  },
  {
   "cell_type": "markdown",
   "metadata": {},
   "source": [
    "Compute accuracy, precision, recall and F1-scores:"
   ]
  },
  {
   "cell_type": "code",
   "execution_count": 83,
   "metadata": {
    "ExecuteTime": {
     "end_time": "2020-02-15T14:32:12.606498Z",
     "start_time": "2020-02-15T14:32:12.604164Z"
    }
   },
   "outputs": [
    {
     "name": "stdout",
     "output_type": "stream",
     "text": [
      "Accuracy: 0.8666666666666667\n",
      "Precision: 0.8683905948698928\n",
      "Recall: 0.8666666666666667\n",
      "F1-Score: 0.8661225967699083\n"
     ]
    }
   ],
   "source": [
    "# fill in your code...\n",
    "preds_te = predict_class(test_vec, w_count)\n",
    "print('Accuracy:', accuracy_score(data_test_label,preds_te))\n",
    "print('Precision:', precision_score(data_test_label,preds_te,average='macro'))\n",
    "print('Recall:', recall_score(data_test_label,preds_te,average='macro'))\n",
    "print('F1-Score:', f1_score(data_test_label,preds_te,average='macro'))"
   ]
  },
  {
   "cell_type": "markdown",
   "metadata": {},
   "source": [
    "Print the top-10 words for each class respectively."
   ]
  },
  {
   "cell_type": "code",
   "execution_count": 84,
   "metadata": {
    "ExecuteTime": {
     "end_time": "2020-02-15T14:32:26.224693Z",
     "start_time": "2020-02-15T14:32:26.221886Z"
    }
   },
   "outputs": [
    {
     "name": "stdout",
     "output_type": "stream",
     "text": [
      "['when', 'company', ('athens', 'reuters'), 'season', 'business', 'international', 'corp', 'market', 'team', 'july']\n",
      "['said', 'company', 'oil', 'president', 'government', 'afp', 'prices', 'iraq', ('athens', 'greece'), 'inc']\n",
      "['ap', 'athens', 'olympic', 'afp', 'sunday', 'monday', 'team', 'olympics', 'win', 'night']\n"
     ]
    }
   ],
   "source": [
    "# fill in your code...\n",
    "class1_top_10 = []\n",
    "class2_top_10 = []\n",
    "class3_top_10 = []\n",
    "top_k=10\n",
    "top_k_idx1=w_count[:,0].argsort()[::1][0:top_k]\n",
    "top_k_idx2=w_count[:,1].argsort()[::1][0:top_k]\n",
    "top_k_idx3=w_count[:,2].argsort()[::1][0:top_k]\n",
    "for i in range(top_k):\n",
    "    class1_top_10 += id_to_word[top_k_idx1.tolist()[i]]\n",
    "    class2_top_10 += id_to_word[top_k_idx2.tolist()[i]]\n",
    "    class3_top_10 += id_to_word[top_k_idx3.tolist()[i]]\n",
    "print(class1_top_10)\n",
    "print(class2_top_10)\n",
    "print(class3_top_10)"
   ]
  },
  {
   "cell_type": "markdown",
   "metadata": {},
   "source": [
    "Comment:\n",
    "\n",
    "Top 10 words got here can clearly represent the text topic."
   ]
  },
  {
   "cell_type": "markdown",
   "metadata": {},
   "source": [
    "### Discuss how did you choose model hyperparameters (e.g. learning rate and regularisation strength)? What is the relation between training epochs and learning rate? How the regularisation strength affects performance?"
   ]
  },
  {
   "cell_type": "markdown",
   "metadata": {
    "ExecuteTime": {
     "end_time": "2020-02-15T14:16:19.856538Z",
     "start_time": "2020-02-15T14:16:19.852547Z"
    }
   },
   "source": [
    "Explain here...\n",
    "\n",
    "As I mentioned before, Try learning rate at 0.1 at first, then 0.01 and 0.001.   If 0.001 is too large and 0.0001 too small, I'll try value from 0.0002 to 0.0009 one by one. Finally 0.0005 is appropriate for my model.\n",
    "Same as learning rate, regularisation strength is devided by 10 each time then find the value just right.\n",
    "\n",
    "If the learning rate is too low, the model is prone to overfitting and would takes more epochs to converge(low learning rate needs more epochs). If the learning rate is too large, the loss value is easily oscillating.\n",
    "\n",
    "The alpha hyperparameter has a value between 0.0 and 1.0. This hyperparameter controls the amount of bias in the model from low bias (high variance) to high bias (low variance).\n",
    "If the regularisation strength is too strong, the model will underestimate the weights and underfit the problem. If the regularisation strength is too weak, the model will be allowed to overfit the training data."
   ]
  },
  {
   "cell_type": "markdown",
   "metadata": {},
   "source": [
    "### Now evaluate BOW-tfidf..."
   ]
  },
  {
   "cell_type": "code",
   "execution_count": 85,
   "metadata": {},
   "outputs": [
    {
     "name": "stdout",
     "output_type": "stream",
     "text": [
      "Epoch: 0| Training loss: 0.8319251740289062| Validation loss: 0.9383448158659564\n",
      "Epoch: 1| Training loss: 0.6941520752487773| Validation loss: 0.8371426703685827\n",
      "Epoch: 2| Training loss: 0.6058614479581282| Validation loss: 0.7656611814093716\n",
      "Epoch: 3| Training loss: 0.5435600131829741| Validation loss: 0.7120065843095144\n",
      "Epoch: 4| Training loss: 0.49677191071946025| Validation loss: 0.6700434322022587\n",
      "Epoch: 5| Training loss: 0.4599606981610325| Validation loss: 0.6362913836628177\n",
      "Epoch: 6| Training loss: 0.4300106597248875| Validation loss: 0.6084377559565786\n",
      "Epoch: 7| Training loss: 0.40496367178868686| Validation loss: 0.5848489814689819\n",
      "Epoch: 8| Training loss: 0.383592069876206| Validation loss: 0.5645833064844927\n",
      "Epoch: 9| Training loss: 0.3650644035319429| Validation loss: 0.5469260031629272\n",
      "Epoch: 10| Training loss: 0.34878867545849074| Validation loss: 0.5313828169134653\n",
      "Epoch: 11| Training loss: 0.33434358371116263| Validation loss: 0.517629464191738\n",
      "Epoch: 12| Training loss: 0.321390909037673| Validation loss: 0.5052787031355079\n",
      "Epoch: 13| Training loss: 0.30968460229047606| Validation loss: 0.49418191467875716\n",
      "Epoch: 14| Training loss: 0.2990387838449831| Validation loss: 0.48399117439808825\n",
      "Epoch: 15| Training loss: 0.2892965282841672| Validation loss: 0.47479493925325433\n",
      "Epoch: 16| Training loss: 0.28032902437947965| Validation loss: 0.4662714387750324\n",
      "Epoch: 17| Training loss: 0.2720404540211145| Validation loss: 0.45844921549085105\n",
      "Epoch: 18| Training loss: 0.26434874936654645| Validation loss: 0.4512650187791843\n",
      "Epoch: 19| Training loss: 0.2571771280369102| Validation loss: 0.44457554918781417\n",
      "Epoch: 20| Training loss: 0.25047868090757697| Validation loss: 0.43831571962687726\n",
      "Epoch: 21| Training loss: 0.24419361349398186| Validation loss: 0.43249593721689794\n",
      "Epoch: 22| Training loss: 0.2382828911927019| Validation loss: 0.4270494407427937\n",
      "Epoch: 23| Training loss: 0.23271090981468953| Validation loss: 0.4218868201720943\n",
      "Epoch: 24| Training loss: 0.22744655181618478| Validation loss: 0.41702479240894547\n",
      "Epoch: 25| Training loss: 0.22246158476111844| Validation loss: 0.41246014479613546\n",
      "Epoch: 26| Training loss: 0.21773038539563624| Validation loss: 0.4081182159912082\n",
      "Epoch: 27| Training loss: 0.21323977178749615| Validation loss: 0.4040000693508624\n",
      "Epoch: 28| Training loss: 0.2089598085771281| Validation loss: 0.4001380765646487\n",
      "Epoch: 29| Training loss: 0.20487948936366104| Validation loss: 0.3964568943269803\n",
      "Epoch: 30| Training loss: 0.20098282510563906| Validation loss: 0.39297000220218975\n",
      "Epoch: 31| Training loss: 0.1972580791567389| Validation loss: 0.389645247909432\n",
      "Epoch: 32| Training loss: 0.19369000486429655| Validation loss: 0.38641558480274685\n",
      "Epoch: 33| Training loss: 0.19027059790616943| Validation loss: 0.38336424183366463\n",
      "Epoch: 34| Training loss: 0.18698850713736753| Validation loss: 0.3804627508246397\n",
      "Epoch: 35| Training loss: 0.1838362960399539| Validation loss: 0.37765872474821754\n",
      "Epoch: 36| Training loss: 0.18080278787372273| Validation loss: 0.37497758299341005\n",
      "Epoch: 37| Training loss: 0.1778834056247932| Validation loss: 0.37240901175362595\n",
      "Epoch: 38| Training loss: 0.1750701112651322| Validation loss: 0.369892050870976\n",
      "Epoch: 39| Training loss: 0.17235478784507796| Validation loss: 0.36749433899772804\n",
      "Epoch: 40| Training loss: 0.16973630925178165| Validation loss: 0.3651960365910929\n",
      "Epoch: 41| Training loss: 0.16720540310884865| Validation loss: 0.3629880781234057\n",
      "Epoch: 42| Training loss: 0.16476077584550286| Validation loss: 0.3608846590545827\n",
      "Epoch: 43| Training loss: 0.16239183233429696| Validation loss: 0.3588106010887934\n",
      "Epoch: 44| Training loss: 0.16010115424078095| Validation loss: 0.35683954067521917\n",
      "Epoch: 45| Training loss: 0.15788092547840615| Validation loss: 0.3549201162848847\n",
      "Epoch: 46| Training loss: 0.15572882326760032| Validation loss: 0.35306235171283684\n",
      "Epoch: 47| Training loss: 0.15364117899768054| Validation loss: 0.35124694432516584\n",
      "Epoch: 48| Training loss: 0.15161711934940864| Validation loss: 0.3494935535366217\n",
      "Epoch: 49| Training loss: 0.14965104189206616| Validation loss: 0.34780959556822305\n",
      "Epoch: 50| Training loss: 0.14773879014696464| Validation loss: 0.3461865669343647\n",
      "Epoch: 51| Training loss: 0.14588135568932736| Validation loss: 0.3446131209271566\n",
      "Epoch: 52| Training loss: 0.14407226636685042| Validation loss: 0.343095975069313\n",
      "Epoch: 53| Training loss: 0.1423148858059897| Validation loss: 0.34160182716588605\n",
      "Epoch: 54| Training loss: 0.14060421705427162| Validation loss: 0.34015486231838094\n",
      "Epoch: 55| Training loss: 0.138937068673851| Validation loss: 0.33875668347242177\n",
      "Epoch: 56| Training loss: 0.1373139029316434| Validation loss: 0.33737830561914967\n",
      "Epoch: 57| Training loss: 0.13573101486803718| Validation loss: 0.33605472880918513\n",
      "Epoch: 58| Training loss: 0.1341868256791361| Validation loss: 0.3347930191110647\n",
      "Epoch: 59| Training loss: 0.13268228741609076| Validation loss: 0.3335337789761518\n",
      "Epoch: 60| Training loss: 0.13121379043975395| Validation loss: 0.33229531083589525\n",
      "Epoch: 61| Training loss: 0.12978086049391327| Validation loss: 0.3310896965672684\n",
      "Epoch: 62| Training loss: 0.1283794216685904| Validation loss: 0.3299512339726938\n",
      "Epoch: 63| Training loss: 0.12701198634894376| Validation loss: 0.3288355468672032\n",
      "Epoch: 64| Training loss: 0.12567584968955303| Validation loss: 0.32775181546912213\n",
      "Epoch: 65| Training loss: 0.12436938239848574| Validation loss: 0.3266804135234424\n",
      "Epoch: 66| Training loss: 0.12309286050994814| Validation loss: 0.32564245083064786\n",
      "Epoch: 67| Training loss: 0.12184375445092835| Validation loss: 0.3246187986650103\n",
      "Epoch: 68| Training loss: 0.1206212726052762| Validation loss: 0.3236020760187233\n",
      "Epoch: 69| Training loss: 0.11942527163613688| Validation loss: 0.3226237048769328\n"
     ]
    }
   ],
   "source": [
    "w_tfidf, trl, devl = SGD(tfidf_train, data_train_label, \n",
    "                         X_dev=tfidf_dev, \n",
    "                         Y_dev=data_dev_label, \n",
    "                         num_classes = 3,\n",
    "                         lr=0.0005, \n",
    "                         alpha=0.00001, \n",
    "                         epochs=100)"
   ]
  },
  {
   "cell_type": "code",
   "execution_count": 86,
   "metadata": {},
   "outputs": [
    {
     "data": {
      "image/png": "[encoded data removed]",
      "text/plain": [
       "<Figure size 432x288 with 1 Axes>"
      ]
     },
     "metadata": {
      "needs_background": "light"
     },
     "output_type": "display_data"
    }
   ],
   "source": [
    "plt.title('TF.IDF Training Progress')\n",
    "sub_axix = np.arange(len(devl))\n",
    "plt.plot(sub_axix, trl, color='red', label='training loss')\n",
    "plt.plot(sub_axix, devl, color='blue', label='validation loss')\n",
    "plt.legend()\n",
    "plt.xlabel('epochs')\n",
    "plt.ylabel('loss')\n",
    "plt.show()"
   ]
  },
  {
   "cell_type": "markdown",
   "metadata": {},
   "source": [
    "Comment:\n",
    "\n",
    "It is about right. Both of them decrese significantly at beginning and become flat at the same time."
   ]
  },
  {
   "cell_type": "code",
   "execution_count": 87,
   "metadata": {},
   "outputs": [
    {
     "name": "stdout",
     "output_type": "stream",
     "text": [
      "Accuracy: 0.8777777777777778\n",
      "Precision: 0.8789090515433227\n",
      "Recall: 0.8777777777777778\n",
      "F1-Score: 0.877238799813694\n"
     ]
    }
   ],
   "source": [
    "preds_test_tfidf = predict_class(tfidf_test, w_tfidf)\n",
    "print('Accuracy:', accuracy_score(data_test_label,preds_test_tfidf))\n",
    "print('Precision:', precision_score(data_test_label,preds_test_tfidf,average='macro'))\n",
    "print('Recall:', recall_score(data_test_label,preds_test_tfidf,average='macro'))\n",
    "print('F1-Score:', f1_score(data_test_label,preds_test_tfidf,average='macro'))"
   ]
  },
  {
   "cell_type": "code",
   "execution_count": 88,
   "metadata": {},
   "outputs": [
    {
     "name": "stdout",
     "output_type": "stream",
     "text": [
      "['when', 'company', ('athens', 'reuters'), 'business', 'season', 'market', 'team', 'corp', 'international', 'all']\n",
      "['company', 'said', 'oil', 'afp', 'president', 'government', 'prices', 'iraq', 'google', 'inc']\n",
      "['ap', 'athens', 'afp', 'olympic', 'olympics', 'team', 'sunday', 'monday', 'greece', 'night']\n"
     ]
    }
   ],
   "source": [
    "class1_top_10 = []\n",
    "class2_top_10 = []\n",
    "class3_top_10 = []\n",
    "top_k=10\n",
    "top_k_idx1=w_tfidf[:,0].argsort()[::1][0:top_k]\n",
    "top_k_idx2=w_tfidf[:,1].argsort()[::1][0:top_k]\n",
    "top_k_idx3=w_tfidf[:,2].argsort()[::1][0:top_k]\n",
    "for i in range(top_k):\n",
    "    class1_top_10 += id_to_word[top_k_idx1.tolist()[i]]\n",
    "    class2_top_10 += id_to_word[top_k_idx2.tolist()[i]]\n",
    "    class3_top_10 += id_to_word[top_k_idx3.tolist()[i]]\n",
    "print(class1_top_10)\n",
    "print(class2_top_10)\n",
    "print(class3_top_10)"
   ]
  },
  {
   "cell_type": "markdown",
   "metadata": {},
   "source": [
    "Comment:\n",
    "\n",
    "Top 10 words got here can clearly represent the text topic. There is not much difference between them and above."
   ]
  },
  {
   "cell_type": "markdown",
   "metadata": {
    "ExecuteTime": {
     "end_time": "2020-02-15T14:16:42.567569Z",
     "start_time": "2020-02-15T14:16:42.562560Z"
    }
   },
   "source": [
    "## Full Results\n",
    "\n",
    "Add here your results:\n",
    "\n",
    "| LR | Precision  | Recall  | F1-Score  |\n",
    "|:-:|:-:|:-:|:-:|\n",
    "| BOW-count  | 0.87  | 0.87  | 0.87  |\n",
    "| BOW-tfidf  | 0.88  | 0.88  | 0.88  |\n"
   ]
  }
 ],
 "metadata": {
  "kernelspec": {
   "display_name": "Python 3",
   "language": "python",
   "name": "python3"
  },
  "language_info": {
   "codemirror_mode": {
    "name": "ipython",
    "version": 3
   },
   "file_extension": ".py",
   "mimetype": "text/x-python",
   "name": "python",
   "nbconvert_exporter": "python",
   "pygments_lexer": "ipython3",
   "version": "3.7.4"
  }
 },
 "nbformat": 4,
 "nbformat_minor": 2
}
